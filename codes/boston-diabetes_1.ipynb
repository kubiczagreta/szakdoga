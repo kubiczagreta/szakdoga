{
 "cells": [
  {
   "cell_type": "code",
   "execution_count": 1,
   "metadata": {},
   "outputs": [
    {
     "data": {
      "text/plain": [
       "{'divide': 'warn', 'over': 'warn', 'under': 'ignore', 'invalid': 'warn'}"
      ]
     },
     "execution_count": 1,
     "metadata": {},
     "output_type": "execute_result"
    }
   ],
   "source": [
    "import os\n",
    "import sys\n",
    "import warnings\n",
    "import sklearn\n",
    "import matplotlib.pyplot as plt\n",
    "import numpy as np\n",
    "import pandas as pd\n",
    "from sklearn.datasets import load_boston, load_diabetes\n",
    "from sklearn.model_selection import train_test_split, GridSearchCV\n",
    "from sklearn.metrics import mean_squared_error, r2_score\n",
    "from sklearn.preprocessing import StandardScaler\n",
    "from sklearn.linear_model import Ridge\n",
    "from sklearn.svm import SVR\n",
    "from sklearn.ensemble import RandomForestRegressor\n",
    "\n",
    "from autofeat import AutoFeatRegressor\n",
    "\n",
    "%matplotlib inline\n",
    "%load_ext autoreload\n",
    "%autoreload 2\n",
    "\n",
    "# ignore all future warnings\n",
    "from warnings import simplefilter\n",
    "simplefilter(action='ignore', category=FutureWarning)\n",
    "np.seterr(divide = 'ignore')"
   ]
  },
  {
   "cell_type": "code",
   "execution_count": 2,
   "metadata": {},
   "outputs": [],
   "source": [
    "datasets = [\"diabetes\", \"boston\"]\n",
    "\n",
    "# same interface for loading all datasets - adapt the datapath\n",
    "# to where you've downloaded (and renamed) the datasets\n",
    "def load_regression_dataset(name, datapath=\"../datasets/regression/\"):\n",
    "    # load one of the datasets as X and y (and possibly units)\n",
    "    units = {}\n",
    "    if name == \"boston\":\n",
    "        # sklearn boston housing dataset\n",
    "        X, y = load_boston(True)\n",
    "\n",
    "    elif name == \"diabetes\":\n",
    "        # sklearn diabetes dataset\n",
    "        X, y = load_diabetes(True)\n",
    "    else:\n",
    "        raise RuntimeError(\"Unknown dataset %r\" % name)\n",
    "    return np.array(X, dtype=float), np.array(y, dtype=float), units\n",
    "\n",
    "def test_model(dataset, model, param_grid):\n",
    "    # load data\n",
    "    X, y, _ = load_regression_dataset(dataset)\n",
    "    # split in training and test parts\n",
    "    X_train, X_test, y_train, y_test = train_test_split(X, y, test_size=0.2, random_state=12)\n",
    "    \n",
    "    if model.__class__.__name__ == \"SVR\":\n",
    "        sscaler = StandardScaler()\n",
    "        X_train = sscaler.fit_transform(X_train)\n",
    "        X_test = sscaler.transform(X_test)\n",
    "        \n",
    "    # train model on train split incl cross-validation for parameter selection\n",
    "    gsmodel = GridSearchCV(model, param_grid, scoring='neg_mean_squared_error', cv=5)\n",
    "    gsmodel.fit(X_train, y_train)\n",
    "    print(\"best params:\", gsmodel.best_params_)\n",
    "    print(\"best score:\", gsmodel.best_score_)\n",
    "    print(\"MSE on training data:\", mean_squared_error(y_train, gsmodel.predict(X_train)))\n",
    "    print(\"MSE on test data:\", mean_squared_error(y_test, gsmodel.predict(X_test)))\n",
    "    print(\"R^2 on training data:\", r2_score(y_train, gsmodel.predict(X_train)))\n",
    "    print(\"R^2 on test data:\", r2_score(y_test, gsmodel.predict(X_test)))\n",
    "    return gsmodel.best_estimator_\n",
    "\n",
    "def test_autofeat(dataset, feateng_steps=2):\n",
    "    # load data\n",
    "    X, y, units = load_regression_dataset(dataset)\n",
    "    # split in training and test parts\n",
    "    X_train, X_test, y_train, y_test = train_test_split(X, y, test_size=0.2, random_state=12)\n",
    "    # run autofeat\n",
    "    afreg = AutoFeatRegressor(verbose=1, feateng_steps=feateng_steps, units=units)\n",
    "    # fit autofeat on less data, otherwise ridge reg model with xval will overfit on new features\n",
    "    X_train_tr = afreg.fit_transform(X_train, y_train)\n",
    "    X_test_tr = afreg.transform(X_test)\n",
    "    print(\"autofeat new features:\", len(afreg.new_feat_cols_))\n",
    "    print(\"autofeat MSE on training data:\", mean_squared_error(y_train, afreg.predict(X_train_tr)))\n",
    "    print(\"autofeat MSE on test data:\", mean_squared_error(y_test, afreg.predict(X_test_tr)))\n",
    "    print(\"autofeat R^2 on training data:\", r2_score(y_train, afreg.predict(X_train_tr)))\n",
    "    print(\"autofeat R^2 on test data:\", r2_score(y_test, afreg.predict(X_test_tr)))    \n",
    "    \n",
    "    # train rreg on transformed train split incl cross-validation for parameter selection\n",
    "    print(\"# Ridge Regression\")\n",
    "    rreg = Ridge()\n",
    "    param_grid = {\"alpha\": [0.00001, 0.0001, 0.001, 0.01, 0.1, 1., 2.5, 5., 10., 25., 50., 100., 250., 500., 1000., 2500., 5000., 10000.]}\n",
    "    with warnings.catch_warnings():\n",
    "        warnings.simplefilter(\"ignore\")\n",
    "        gsmodel = GridSearchCV(rreg, param_grid, scoring='neg_mean_squared_error', cv=5)\n",
    "        gsmodel.fit(X_train_tr, y_train)\n",
    "    print(\"best params:\", gsmodel.best_params_)\n",
    "    print(\"best score:\", gsmodel.best_score_)\n",
    "    print(\"MSE on training data:\", mean_squared_error(y_train, gsmodel.predict(X_train_tr)))\n",
    "    print(\"MSE on test data:\", mean_squared_error(y_test, gsmodel.predict(X_test_tr)))\n",
    "    print(\"R^2 on training data:\", r2_score(y_train, gsmodel.predict(X_train_tr)))\n",
    "    print(\"R^2 on test data:\", r2_score(y_test, gsmodel.predict(X_test_tr)))\n",
    "        \n",
    "    print(\"# Random Forest\")\n",
    "    rforest = RandomForestRegressor(n_estimators=100, random_state=13)\n",
    "    param_grid = {\"min_samples_leaf\": [0.0001, 0.001, 0.01, 0.05, 0.1, 0.2]}\n",
    "    gsmodel = GridSearchCV(rforest, param_grid, scoring='neg_mean_squared_error', cv=5)\n",
    "    gsmodel.fit(X_train_tr, y_train)\n",
    "    print(\"best params:\", gsmodel.best_params_)\n",
    "    print(\"best score:\", gsmodel.best_score_)\n",
    "    print(\"MSE on training data:\", mean_squared_error(y_train, gsmodel.predict(X_train_tr)))\n",
    "    print(\"MSE on test data:\", mean_squared_error(y_test, gsmodel.predict(X_test_tr)))\n",
    "    print(\"R^2 on training data:\", r2_score(y_train, gsmodel.predict(X_train_tr)))\n",
    "    print(\"R^2 on test data:\", r2_score(y_test, gsmodel.predict(X_test_tr)))\n",
    "       \n",
    "    print(\"# SVR\")\n",
    "    svr = SVR(gamma=\"scale\")\n",
    "    param_grid = {\"C\": [1., 10., 25., 50., 100., 250.]}\n",
    "    sscaler = StandardScaler()\n",
    "    X_train_tr = sscaler.fit_transform(X_train_tr)\n",
    "    X_test_tr = sscaler.transform(X_test_tr)\n",
    "    gsmodel = GridSearchCV(svr, param_grid, scoring='neg_mean_squared_error', cv=5)\n",
    "    gsmodel.fit(X_train_tr, y_train)\n",
    "    print(\"best params:\", gsmodel.best_params_)\n",
    "    print(\"best score:\", gsmodel.best_score_)\n",
    "    print(\"MSE on training data:\", mean_squared_error(y_train, gsmodel.predict(X_train_tr)))\n",
    "    print(\"MSE on test data:\", mean_squared_error(y_test, gsmodel.predict(X_test_tr)))\n",
    "    print(\"R^2 on training data:\", r2_score(y_train, gsmodel.predict(X_train_tr)))\n",
    "    print(\"R^2 on test data:\", r2_score(y_test, gsmodel.predict(X_test_tr)))"
   ]
  },
  {
   "cell_type": "code",
   "execution_count": 3,
   "metadata": {},
   "outputs": [
    {
     "name": "stdout",
     "output_type": "stream",
     "text": [
      "#### diabetes\n",
      "(442, 10)\n",
      "#### boston\n",
      "(506, 13)\n"
     ]
    }
   ],
   "source": [
    "for dsname in datasets:\n",
    "    print(\"####\", dsname)\n",
    "    X, y, _ = load_regression_dataset(dsname)\n",
    "    print(X.shape)"
   ]
  },
  {
   "cell_type": "code",
   "execution_count": 4,
   "metadata": {
    "scrolled": true
   },
   "outputs": [
    {
     "name": "stdout",
     "output_type": "stream",
     "text": [
      "#### diabetes\n",
      "best params: {'alpha': 0.01}\n",
      "best score: -3043.14487668777\n",
      "MSE on training data: 2817.5756461735427\n",
      "MSE on test data: 3119.632550355442\n",
      "R^2 on training data: 0.541317737800587\n",
      "R^2 on test data: 0.38300930348673157\n",
      "#### boston\n",
      "best params: {'alpha': 1e-05}\n",
      "best score: -25.427148426837693\n",
      "MSE on training data: 22.4278718761592\n",
      "MSE on test data: 20.5580503052922\n",
      "R^2 on training data: 0.7361592384229154\n",
      "R^2 on test data: 0.7484031841564716\n"
     ]
    }
   ],
   "source": [
    "for dsname in datasets:\n",
    "    print(\"####\", dsname)\n",
    "    rreg = Ridge()\n",
    "    params = {\"alpha\": [0.00001, 0.0001, 0.001, 0.01, 0.1, 1., 2.5, 5., 10., 25., 50., 100., 250., 500., 1000., 2500., 5000., 10000., 25000., 50000., 100000.]}\n",
    "    rreg = test_model(dsname, rreg, params)"
   ]
  },
  {
   "cell_type": "code",
   "execution_count": 5,
   "metadata": {
    "scrolled": true
   },
   "outputs": [
    {
     "name": "stdout",
     "output_type": "stream",
     "text": [
      "#### diabetes\n",
      "best params: {'C': 10.0}\n",
      "best score: -3057.7070015538065\n",
      "MSE on training data: 2577.0841482085507\n",
      "MSE on test data: 3437.6800004513143\n",
      "R^2 on training data: 0.5804681274187382\n",
      "R^2 on test data: 0.32010692168648935\n",
      "#### boston\n",
      "best params: {'C': 100.0}\n",
      "best score: -13.598043246310898\n",
      "MSE on training data: 3.446934260844429\n",
      "MSE on test data: 9.636188588435926\n",
      "R^2 on training data: 0.9594503764998732\n",
      "R^2 on test data: 0.8820688572255264\n"
     ]
    }
   ],
   "source": [
    "for dsname in datasets:\n",
    "    print(\"####\", dsname)\n",
    "    svr = SVR(gamma=\"scale\")\n",
    "    params = {\"C\": [1., 10., 25., 50., 100., 250.]}\n",
    "    svr = test_model(dsname, svr, params)"
   ]
  },
  {
   "cell_type": "code",
   "execution_count": 6,
   "metadata": {
    "scrolled": true
   },
   "outputs": [
    {
     "name": "stdout",
     "output_type": "stream",
     "text": [
      "#### diabetes\n",
      "best params: {'min_samples_leaf': 0.05}\n",
      "best score: -3336.6571277553485\n",
      "MSE on training data: 2472.319475907154\n",
      "MSE on test data: 3268.607555103584\n",
      "R^2 on training data: 0.5975231076301993\n",
      "R^2 on test data: 0.35354551553768243\n",
      "#### boston\n",
      "best params: {'min_samples_leaf': 0.0001}\n",
      "best score: -10.473222010679008\n",
      "MSE on training data: 1.41392634158416\n",
      "MSE on test data: 10.691309401960789\n",
      "R^2 on training data: 0.9833666161088597\n",
      "R^2 on test data: 0.8691559091068641\n"
     ]
    }
   ],
   "source": [
    "for dsname in datasets:\n",
    "    print(\"####\", dsname)\n",
    "    rforest = RandomForestRegressor(n_estimators=100, random_state=13)\n",
    "    params = {\"min_samples_leaf\": [0.0001, 0.001, 0.01, 0.05, 0.1, 0.2]}\n",
    "    rforest = test_model(dsname, rforest, params)"
   ]
  },
  {
   "cell_type": "code",
   "execution_count": 7,
   "metadata": {
    "scrolled": true
   },
   "outputs": [
    {
     "name": "stdout",
     "output_type": "stream",
     "text": [
      "#### diabetes\n",
      "[AutoFeat] The 1 step feature engineering process could generate up to 70 features.\n",
      "[AutoFeat] With 353 data points this new feature matrix would use about 0.00 gb of space.\n",
      "[feateng] Step 1: transformation of original features\n",
      "[feateng] Generated 45 transformed features from 10 original features - done.\n",
      "[feateng] Generated altogether 45 new features in 1 steps\n",
      "[feateng] Removing correlated features, as well as additions at the highest level\n",
      "[feateng] Generated a total of 36 additional features\n",
      "[featsel] Scaling data...done.\n",
      "[featsel] Feature selection run 1/5\n",
      "[featsel] Feature selection run 2/5\n",
      "[featsel] Feature selection run 3/5\n",
      "[featsel] Feature selection run 4/5\n",
      "[featsel] Feature selection run 5/5\n",
      "[featsel] 9 features after 5 feature selection runs\n",
      "[featsel] 9 features after correlation filtering\n",
      "[featsel] 8 features after noise filtering\n",
      "[AutoFeat] Computing 3 new features.\n",
      "[AutoFeat]     3/    3 new features ...done.\n",
      "[AutoFeat] Final dataframe with 13 feature columns (3 new).\n",
      "[AutoFeat] Training final regression model.\n",
      "[AutoFeat] Trained model: largest coefficients:\n",
      "141.09780663213252\n",
      "-33706.519316 * x008**3\n",
      "2961.853413 * x000**2\n",
      "2805.037028 * x009**2\n",
      "710.411852 * x008\n",
      "530.813808 * x002\n",
      "359.095326 * x003\n",
      "-250.557215 * x006\n",
      "-222.210432 * x001\n",
      "[AutoFeat] Final score: 0.5624\n",
      "[AutoFeat] Computing 3 new features.\n",
      "[AutoFeat]     3/    3 new features ...done.\n",
      "autofeat new features: 3\n",
      "autofeat MSE on training data: 2688.1925469081352\n",
      "autofeat MSE on test data: 3087.719955093608\n",
      "autofeat R^2 on training data: 0.5623804314471708\n",
      "autofeat R^2 on test data: 0.3893208719360034\n",
      "# Ridge Regression\n",
      "best params: {'alpha': 1e-05}\n",
      "best score: -2972.6986655918536\n",
      "MSE on training data: 2643.799536283869\n",
      "MSE on test data: 3104.920587392709\n",
      "R^2 on training data: 0.5696073133825801\n",
      "R^2 on test data: 0.3859189872808758\n",
      "# Random Forest\n",
      "best params: {'min_samples_leaf': 0.05}\n",
      "best score: -3351.8818434607856\n",
      "MSE on training data: 2440.0488009866867\n",
      "MSE on test data: 3295.5504703070037\n",
      "R^2 on training data: 0.6027765552866354\n",
      "R^2 on test data: 0.3482168341147497\n",
      "# SVR\n",
      "best params: {'C': 25.0}\n",
      "best score: -3145.3225535171423\n",
      "MSE on training data: 2250.877376797804\n",
      "MSE on test data: 3763.977423167352\n",
      "R^2 on training data: 0.633572383930413\n",
      "R^2 on test data: 0.2555728873531464\n",
      "#### boston\n",
      "[AutoFeat] The 1 step feature engineering process could generate up to 91 features.\n",
      "[AutoFeat] With 404 data points this new feature matrix would use about 0.00 gb of space.\n",
      "[feateng] Step 1: transformation of original features\n",
      "[feateng] Generated 60 transformed features from 13 original features - done.\n"
     ]
    },
    {
     "name": "stderr",
     "output_type": "stream",
     "text": [
      "<lambdifygenerated-54>:2: RuntimeWarning: divide by zero encountered in log\n",
      "  return (log(t))\n"
     ]
    },
    {
     "name": "stdout",
     "output_type": "stream",
     "text": [
      "[feateng] Generated altogether 61 new features in 1 steps\n",
      "[feateng] Removing correlated features, as well as additions at the highest level\n",
      "[feateng] Generated a total of 22 additional features\n",
      "[featsel] Scaling data...done.\n",
      "[featsel] Feature selection run 1/5\n",
      "[featsel] Feature selection run 2/5\n",
      "[featsel] Feature selection run 3/5\n",
      "[featsel] Feature selection run 4/5\n",
      "[featsel] Feature selection run 5/5\n",
      "[featsel] 16 features after 5 feature selection runs\n",
      "[featsel] 15 features after correlation filtering\n",
      "[featsel] 13 features after noise filtering\n",
      "[AutoFeat] Computing 6 new features.\n",
      "[AutoFeat]     6/    6 new features ...done.\n",
      "[AutoFeat] Final dataframe with 19 feature columns (6 new).\n",
      "[AutoFeat] Training final regression model.\n",
      "[AutoFeat] Trained model: largest coefficients:\n",
      "29.674161094728753\n",
      "38.009017 * 1/x012\n",
      "-20.104976 * x004\n",
      "17.159178 * 1/x007\n",
      "5.227549 * 1/x002\n",
      "-3.719025 * 1/x008\n",
      "2.040892 * x003\n",
      "0.803623 * x005\n",
      "-0.521640 * x010\n",
      "-0.366773 * x012\n",
      "-0.150635 * x000\n",
      "0.005017 * x011\n",
      "-0.002973 * x007**3\n",
      "0.002555 * exp(x005)\n",
      "[AutoFeat] Final score: 0.8220\n",
      "[AutoFeat] Computing 6 new features.\n",
      "[AutoFeat]     6/    6 new features ...done.\n",
      "autofeat new features: 6\n",
      "autofeat MSE on training data: 15.12753092588693\n",
      "autofeat MSE on test data: 15.006786363959417\n",
      "autofeat R^2 on training data: 0.8220402139665507\n",
      "autofeat R^2 on test data: 0.8163415494588845\n",
      "# Ridge Regression\n",
      "best params: {'alpha': 1e-05}\n",
      "best score: -17.175220809220974\n",
      "MSE on training data: 13.933824414410099\n",
      "MSE on test data: 16.155065181948387\n",
      "R^2 on training data: 0.8360829388771723\n",
      "R^2 on test data: 0.8022885001659648\n",
      "# Random Forest\n",
      "best params: {'min_samples_leaf': 0.0001}\n",
      "best score: -10.15706364845678\n",
      "MSE on training data: 1.4029588737623762\n",
      "MSE on test data: 10.926928960784318\n",
      "R^2 on training data: 0.9834956370466753\n",
      "R^2 on test data: 0.8662723121767021\n",
      "# SVR\n",
      "best params: {'C': 100.0}\n",
      "best score: -10.624842905213859\n",
      "MSE on training data: 1.7390279082588123\n",
      "MSE on test data: 17.036902980255956\n",
      "R^2 on training data: 0.9795421317612153\n",
      "R^2 on test data: 0.7914962519298789\n"
     ]
    }
   ],
   "source": [
    "for dsname in datasets:\n",
    "    print(\"####\", dsname)\n",
    "    test_autofeat(dsname, feateng_steps=1)"
   ]
  },
  {
   "cell_type": "code",
   "execution_count": 8,
   "metadata": {
    "scrolled": true
   },
   "outputs": [
    {
     "name": "stdout",
     "output_type": "stream",
     "text": [
      "#### diabetes\n",
      "[AutoFeat] The 2 step feature engineering process could generate up to 2485 features.\n",
      "[AutoFeat] With 353 data points this new feature matrix would use about 0.00 gb of space.\n",
      "[feateng] Step 1: transformation of original features\n",
      "[feateng] Generated 45 transformed features from 10 original features - done.\n",
      "[feateng] Step 2: first combination of features\n",
      "[feateng] Generated 1338 feature combinations from 1485 original feature tuples - done.\n",
      "[feateng] Generated altogether 1495 new features in 2 steps\n",
      "[feateng] Removing correlated features, as well as additions at the highest level\n",
      "[feateng] Generated a total of 925 additional features\n",
      "[featsel] Scaling data...done.\n",
      "[featsel] Feature selection run 1/5\n",
      "[featsel] Feature selection run 2/5\n",
      "[featsel] Feature selection run 3/5\n",
      "[featsel] Feature selection run 4/5\n",
      "[featsel] Feature selection run 5/5\n",
      "[featsel] 25 features after 5 feature selection runs\n",
      "[featsel] 25 features after correlation filtering\n",
      "[featsel] 10 features after noise filtering\n",
      "[AutoFeat] Computing 10 new features.\n",
      "[AutoFeat]    10/   10 new features ...done.\n",
      "[AutoFeat] Final dataframe with 20 feature columns (10 new).\n",
      "[AutoFeat] Training final regression model.\n",
      "[AutoFeat] Trained model: largest coefficients:\n",
      "-406.95692007852756\n",
      "793095.355256 * x000**3*x001\n",
      "41993.515777 * x009**2*Abs(x000)\n",
      "25503.100431 * x002**2*Abs(x003)\n",
      "-3691.682942 * x006*Abs(x009)\n",
      "266.960636 * exp(x002)*exp(x003)\n",
      "258.555118 * exp(x002)*exp(x008)\n",
      "91.579694 * x000**3/x009\n",
      "39.687916 * x004**3/x003\n",
      "24.794513 * exp(x003)*exp(x008)\n",
      "14.789965 * Abs(x008)/x008\n",
      "[AutoFeat] Final score: 0.5945\n",
      "[AutoFeat] Computing 10 new features.\n",
      "[AutoFeat]    10/   10 new features ...done.\n",
      "autofeat new features: 10\n",
      "autofeat MSE on training data: 2490.975009925929\n",
      "autofeat MSE on test data: 3238.532317724706\n",
      "autofeat R^2 on training data: 0.5944861128443129\n",
      "autofeat R^2 on test data: 0.35949369736957215\n",
      "# Ridge Regression\n",
      "best params: {'alpha': 0.1}\n",
      "best score: -2901.591506597745\n",
      "MSE on training data: 2621.3919323367736\n",
      "MSE on test data: 3056.5106325275756\n",
      "R^2 on training data: 0.5732551197805663\n",
      "R^2 on test data: 0.39549334941753556\n",
      "# Random Forest\n",
      "best params: {'min_samples_leaf': 0.05}\n",
      "best score: -3114.969468452421\n",
      "MSE on training data: 2141.3825440391747\n",
      "MSE on test data: 3507.149437415939\n",
      "R^2 on training data: 0.6513974022780415\n",
      "R^2 on test data: 0.3063674842343751\n",
      "# SVR\n",
      "best params: {'C': 25.0}\n",
      "best score: -2969.45409827501\n",
      "MSE on training data: 2153.6072582901124\n",
      "MSE on test data: 3596.1781124133563\n",
      "R^2 on training data: 0.6494073014638978\n",
      "R^2 on test data: 0.2887596848190076\n",
      "#### boston\n",
      "[AutoFeat] The 2 step feature engineering process could generate up to 4186 features.\n",
      "[AutoFeat] With 404 data points this new feature matrix would use about 0.01 gb of space.\n",
      "[feateng] Step 1: transformation of original features\n",
      "[feateng] Generated 60 transformed features from 13 original features - done.\n",
      "[feateng] Step 2: first combination of features\n",
      "[feateng]               0/           2628 feature tuples combined\r"
     ]
    },
    {
     "name": "stderr",
     "output_type": "stream",
     "text": [
      "<lambdifygenerated-1626>:2: RuntimeWarning: divide by zero encountered in log\n",
      "  return (log(t))\n"
     ]
    },
    {
     "name": "stdout",
     "output_type": "stream",
     "text": [
      "[feateng] Generated 2583 feature combinations from 2628 original feature tuples - done.\n",
      "[feateng] Generated altogether 2645 new features in 2 steps\n",
      "[feateng] Removing correlated features, as well as additions at the highest level\n",
      "[feateng] Generated a total of 1190 additional features\n",
      "[featsel] Scaling data...done.\n",
      "[featsel] Feature selection run 1/5\n",
      "[featsel] Feature selection run 2/5\n",
      "[featsel] Feature selection run 3/5\n",
      "[featsel] Feature selection run 4/5\n",
      "[featsel] Feature selection run 5/5\n",
      "[featsel] 50 features after 5 feature selection runs\n",
      "[featsel] 39 features after correlation filtering\n",
      "[featsel] 13 features after noise filtering\n",
      "[AutoFeat] Computing 13 new features.\n",
      "[AutoFeat]    13/   13 new features ...done.\n",
      "[AutoFeat] Final dataframe with 26 feature columns (13 new).\n",
      "[AutoFeat] Training final regression model.\n",
      "[AutoFeat] Trained model: largest coefficients:\n",
      "12.149028244003668\n",
      "63.577651 * 1/(x007*x012)\n",
      "22.730324 * 1/(x002*x007)\n",
      "7.906426 * sqrt(x008)/x012\n",
      "2.008095 * x005**3/x009\n",
      "1.853069 * x005**2/x010\n",
      "0.469425 * exp(x005)/x009\n",
      "-0.173435 * x004**3*x012\n",
      "0.033662 * x000**3*x003\n",
      "-0.029456 * sqrt(x000)*x012\n",
      "-0.000881 * x010**2*log(x012)\n",
      "-0.000760 * exp(x005)*log(x000)\n",
      "-0.000537 * x005**3*x012\n",
      "0.000011 * x005**3*x011\n",
      "[AutoFeat] Final score: 0.8804\n",
      "[AutoFeat] Computing 13 new features.\n",
      "[AutoFeat]    13/   13 new features ...done.\n",
      "autofeat new features: 13\n",
      "autofeat MSE on training data: 10.16561807366002\n",
      "autofeat MSE on test data: 17.677617946643743\n",
      "autofeat R^2 on training data: 0.8804119967660726\n",
      "autofeat R^2 on test data: 0.7836549516600297\n",
      "# Ridge Regression\n",
      "best params: {'alpha': 0.01}\n",
      "best score: -11.658953080447285\n",
      "MSE on training data: 8.6203101851017\n",
      "MSE on test data: 17.567886188754745\n",
      "R^2 on training data: 0.8985909489394932\n",
      "R^2 on test data: 0.7849978883914707\n",
      "# Random Forest\n",
      "best params: {'min_samples_leaf': 0.0001}\n",
      "best score: -10.734598747870365\n",
      "MSE on training data: 1.4481035643564335\n",
      "MSE on test data: 10.212539088235285\n",
      "R^2 on training data: 0.9829645563621918\n",
      "R^2 on test data: 0.8750152724543083\n",
      "# SVR\n",
      "best params: {'C': 50.0}\n",
      "best score: -12.805548147284975\n",
      "MSE on training data: 2.4580817174166145\n",
      "MSE on test data: 16.783834082269408\n",
      "R^2 on training data: 0.9710832059357666\n",
      "R^2 on test data: 0.7945934001504987\n"
     ]
    }
   ],
   "source": [
    "for dsname in datasets:\n",
    "    print(\"####\", dsname)\n",
    "    test_autofeat(dsname, feateng_steps=2)"
   ]
  },
  {
   "cell_type": "code",
   "execution_count": 9,
   "metadata": {
    "scrolled": true
   },
   "outputs": [
    {
     "name": "stdout",
     "output_type": "stream",
     "text": [
      "#### diabetes\n",
      "[AutoFeat] The 3 step feature engineering process could generate up to 60445 features.\n",
      "[AutoFeat] With 353 data points this new feature matrix would use about 0.09 gb of space.\n",
      "[feateng] Step 1: transformation of original features\n",
      "[feateng] Generated 45 transformed features from 10 original features - done.\n",
      "[feateng] Step 2: first combination of features\n",
      "[feateng] Generated 5793 feature combinations from 1485 original feature tuples - done.\n",
      "[feateng] Step 3: transformation of new features\n",
      "[feateng]               0/           5793 features transformed\r"
     ]
    },
    {
     "name": "stderr",
     "output_type": "stream",
     "text": [
      "<lambdifygenerated-10409>:2: RuntimeWarning: divide by zero encountered in log\n",
      "  return (log(t))\n",
      "<lambdifygenerated-10422>:2: RuntimeWarning: divide by zero encountered in log\n",
      "  return (log(t))\n"
     ]
    },
    {
     "name": "stdout",
     "output_type": "stream",
     "text": [
      "[feateng]             400/           5793 features transformed\r"
     ]
    },
    {
     "name": "stderr",
     "output_type": "stream",
     "text": [
      "<lambdifygenerated-12397>:2: RuntimeWarning: divide by zero encountered in log\n",
      "  return (log(t))\n",
      "<lambdifygenerated-12410>:2: RuntimeWarning: divide by zero encountered in log\n",
      "  return (log(t))\n"
     ]
    },
    {
     "name": "stdout",
     "output_type": "stream",
     "text": [
      "[feateng]             700/           5793 features transformed\r"
     ]
    },
    {
     "name": "stderr",
     "output_type": "stream",
     "text": [
      "<lambdifygenerated-13380>:2: RuntimeWarning: divide by zero encountered in log\n",
      "  return (log(t))\n",
      "<lambdifygenerated-13393>:2: RuntimeWarning: divide by zero encountered in log\n",
      "  return (log(t))\n"
     ]
    },
    {
     "name": "stdout",
     "output_type": "stream",
     "text": [
      "[feateng]             900/           5793 features transformed\r"
     ]
    },
    {
     "name": "stderr",
     "output_type": "stream",
     "text": [
      "<lambdifygenerated-14350>:2: RuntimeWarning: divide by zero encountered in log\n",
      "  return (log(t))\n",
      "<lambdifygenerated-14363>:2: RuntimeWarning: divide by zero encountered in log\n",
      "  return (log(t))\n"
     ]
    },
    {
     "name": "stdout",
     "output_type": "stream",
     "text": [
      "[feateng]            1100/           5793 features transformed\r"
     ]
    },
    {
     "name": "stderr",
     "output_type": "stream",
     "text": [
      "<lambdifygenerated-15304>:2: RuntimeWarning: divide by zero encountered in log\n",
      "  return (log(t))\n",
      "<lambdifygenerated-15317>:2: RuntimeWarning: divide by zero encountered in log\n",
      "  return (log(t))\n"
     ]
    },
    {
     "name": "stdout",
     "output_type": "stream",
     "text": [
      "[feateng]            1300/           5793 features transformed\r"
     ]
    },
    {
     "name": "stderr",
     "output_type": "stream",
     "text": [
      "<lambdifygenerated-16242>:2: RuntimeWarning: divide by zero encountered in log\n",
      "  return (log(t))\n",
      "<lambdifygenerated-16255>:2: RuntimeWarning: divide by zero encountered in log\n",
      "  return (log(t))\n"
     ]
    },
    {
     "name": "stdout",
     "output_type": "stream",
     "text": [
      "[feateng]            1500/           5793 features transformed\r"
     ]
    },
    {
     "name": "stderr",
     "output_type": "stream",
     "text": [
      "<lambdifygenerated-17164>:2: RuntimeWarning: divide by zero encountered in log\n",
      "  return (log(t))\n",
      "<lambdifygenerated-17177>:2: RuntimeWarning: divide by zero encountered in log\n",
      "  return (log(t))\n"
     ]
    },
    {
     "name": "stdout",
     "output_type": "stream",
     "text": [
      "[feateng]            1700/           5793 features transformed\r"
     ]
    },
    {
     "name": "stderr",
     "output_type": "stream",
     "text": [
      "<lambdifygenerated-18070>:2: RuntimeWarning: divide by zero encountered in log\n",
      "  return (log(t))\n",
      "<lambdifygenerated-18083>:2: RuntimeWarning: divide by zero encountered in log\n",
      "  return (log(t))\n"
     ]
    },
    {
     "name": "stdout",
     "output_type": "stream",
     "text": [
      "[feateng]            1900/           5793 features transformed\r"
     ]
    },
    {
     "name": "stderr",
     "output_type": "stream",
     "text": [
      "<lambdifygenerated-18960>:2: RuntimeWarning: divide by zero encountered in log\n",
      "  return (log(t))\n",
      "<lambdifygenerated-18973>:2: RuntimeWarning: divide by zero encountered in log\n",
      "  return (log(t))\n"
     ]
    },
    {
     "name": "stdout",
     "output_type": "stream",
     "text": [
      "[feateng] Generated 24609 transformed features from 5793 original features - done.\n",
      "[feateng] Generated altogether 32458 new features in 3 steps\n",
      "[feateng] Removing correlated features, as well as additions at the highest level\n",
      "[feateng] Generated a total of 15062 additional features\n",
      "[featsel] Scaling data...done.\n",
      "[featsel] Feature selection run 1/5\n",
      "[featsel] Feature selection run 2/5\n",
      "[featsel] Feature selection run 3/5\n",
      "[featsel] Feature selection run 4/5\n",
      "[featsel] Feature selection run 5/5\n",
      "[featsel] 32 features after 5 feature selection runs\n",
      "[featsel] 29 features after correlation filtering\n",
      "[featsel] 8 features after noise filtering\n",
      "[AutoFeat] Computing 8 new features.\n",
      "[AutoFeat]     8/    8 new features ...done.\n",
      "[AutoFeat] Final dataframe with 18 feature columns (8 new).\n",
      "[AutoFeat] Training final regression model.\n",
      "[AutoFeat] Trained model: largest coefficients:\n",
      "-191.36047304680935\n",
      "964602.275413 * x000**3*x001\n",
      "-3576.356942 * exp(x006)*Abs(x001)\n",
      "300.964837 * Abs(x002 + Abs(x009))\n",
      "288.141861 * exp(x002)*exp(x003)\n",
      "109.421301 * exp(x003)*exp(x008)\n",
      "97.300476 * exp(x002)*exp(x008)\n",
      "12.684595 * Abs(x008)/x008\n",
      "1.272749 * x008/Abs(x002)\n",
      "[AutoFeat] Final score: 0.5967\n",
      "[AutoFeat] Computing 8 new features.\n",
      "[AutoFeat]     8/    8 new features ...done.\n",
      "autofeat new features: 8\n",
      "autofeat MSE on training data: 2477.3276584397404\n",
      "autofeat MSE on test data: 3193.6023219228973\n",
      "autofeat R^2 on training data: 0.5967078093802042\n",
      "autofeat R^2 on test data: 0.36837980461349673\n",
      "# Ridge Regression\n",
      "best params: {'alpha': 0.1}\n",
      "best score: -2885.1555101120503\n",
      "MSE on training data: 2626.7297483323387\n",
      "MSE on test data: 3019.9714248628234\n",
      "R^2 on training data: 0.5723861594318442\n",
      "R^2 on test data: 0.40271995409716355\n",
      "# Random Forest\n",
      "best params: {'min_samples_leaf': 0.05}\n",
      "best score: -3055.114141672767\n",
      "MSE on training data: 2146.086401736409\n",
      "MSE on test data: 3513.6980029096494\n",
      "R^2 on training data: 0.6506316460533377\n",
      "R^2 on test data: 0.3050723304238191\n",
      "# SVR\n",
      "best params: {'C': 25.0}\n",
      "best score: -2870.006456872421\n",
      "MSE on training data: 2143.1790488688293\n",
      "MSE on test data: 3470.948056307511\n",
      "R^2 on training data: 0.6511049434400908\n",
      "R^2 on test data: 0.31352727468542885\n",
      "#### boston\n",
      "[AutoFeat] The 3 step feature engineering process could generate up to 102466 features.\n",
      "[AutoFeat] With 404 data points this new feature matrix would use about 0.17 gb of space.\n",
      "[feateng] Step 1: transformation of original features\n",
      "[feateng]               0/             13 features transformed\r"
     ]
    },
    {
     "name": "stderr",
     "output_type": "stream",
     "text": [
      "<lambdifygenerated-36750>:2: RuntimeWarning: divide by zero encountered in log\n",
      "  return (log(t))\n"
     ]
    },
    {
     "name": "stdout",
     "output_type": "stream",
     "text": [
      "[feateng] Generated 60 transformed features from 13 original features - done.\n",
      "[feateng] Step 2: first combination of features\n",
      "[feateng] Generated 10343 feature combinations from 2628 original feature tuples - done.\n",
      "[feateng] Step 3: transformation of new features\n",
      "[feateng]               0/          10343 features transformed\r"
     ]
    },
    {
     "name": "stderr",
     "output_type": "stream",
     "text": [
      "<lambdifygenerated-47279>:2: RuntimeWarning: divide by zero encountered in log\n",
      "  return (log(t))\n",
      "<lambdifygenerated-47308>:2: RuntimeWarning: divide by zero encountered in log\n",
      "  return (log(t))\n",
      "<lambdifygenerated-47532>:2: RuntimeWarning: divide by zero encountered in log\n",
      "  return (log(t))\n",
      "<lambdifygenerated-47547>:2: RuntimeWarning: divide by zero encountered in log\n",
      "  return (log(t))\n",
      "<lambdifygenerated-47561>:2: RuntimeWarning: divide by zero encountered in log\n",
      "  return (log(t))\n"
     ]
    },
    {
     "name": "stdout",
     "output_type": "stream",
     "text": [
      "[feateng]             100/          10343 features transformed\r"
     ]
    },
    {
     "name": "stderr",
     "output_type": "stream",
     "text": [
      "<lambdifygenerated-48061>:2: RuntimeWarning: divide by zero encountered in log\n",
      "  return (log(t))\n"
     ]
    },
    {
     "name": "stdout",
     "output_type": "stream",
     "text": [
      "[feateng]             200/          10343 features transformed\r"
     ]
    },
    {
     "name": "stderr",
     "output_type": "stream",
     "text": [
      "<lambdifygenerated-48458>:2: RuntimeWarning: divide by zero encountered in log\n",
      "  return (log(t))\n",
      "<lambdifygenerated-48467>:2: RuntimeWarning: divide by zero encountered in log\n",
      "  return (log(t))\n",
      "<lambdifygenerated-48471>:2: RuntimeWarning: divide by zero encountered in log\n",
      "  return (log(t))\n",
      "<lambdifygenerated-48486>:2: RuntimeWarning: divide by zero encountered in log\n",
      "  return (log(t))\n",
      "<lambdifygenerated-48501>:2: RuntimeWarning: divide by zero encountered in log\n",
      "  return (log(t))\n"
     ]
    },
    {
     "name": "stdout",
     "output_type": "stream",
     "text": [
      "[feateng]             300/          10343 features transformed\r"
     ]
    },
    {
     "name": "stderr",
     "output_type": "stream",
     "text": [
      "<lambdifygenerated-48516>:2: RuntimeWarning: divide by zero encountered in log\n",
      "  return (log(t))\n",
      "<lambdifygenerated-48530>:2: RuntimeWarning: divide by zero encountered in log\n",
      "  return (log(t))\n",
      "<lambdifygenerated-48545>:2: RuntimeWarning: divide by zero encountered in log\n",
      "  return (log(t))\n",
      "<lambdifygenerated-48559>:2: RuntimeWarning: divide by zero encountered in log\n",
      "  return (log(t))\n",
      "<lambdifygenerated-48576>:2: RuntimeWarning: divide by zero encountered in log\n",
      "  return (log(t))\n",
      "<lambdifygenerated-48590>:2: RuntimeWarning: divide by zero encountered in log\n",
      "  return (log(t))\n",
      "<lambdifygenerated-48607>:2: RuntimeWarning: divide by zero encountered in log\n",
      "  return (log(t))\n",
      "<lambdifygenerated-48621>:2: RuntimeWarning: divide by zero encountered in log\n",
      "  return (log(t))\n",
      "<lambdifygenerated-48653>:2: RuntimeWarning: divide by zero encountered in log\n",
      "  return (log(t))\n",
      "<lambdifygenerated-48669>:2: RuntimeWarning: divide by zero encountered in log\n",
      "  return (log(t))\n",
      "<lambdifygenerated-48685>:2: RuntimeWarning: divide by zero encountered in log\n",
      "  return (log(t))\n",
      "<lambdifygenerated-48694>:2: RuntimeWarning: divide by zero encountered in log\n",
      "  return (log(t))\n",
      "<lambdifygenerated-48698>:2: RuntimeWarning: divide by zero encountered in log\n",
      "  return (log(t))\n",
      "<lambdifygenerated-48701>:2: RuntimeWarning: divide by zero encountered in log\n",
      "  return (log(t))\n",
      "<lambdifygenerated-48709>:2: RuntimeWarning: divide by zero encountered in log\n",
      "  return (log(t))\n",
      "<lambdifygenerated-48716>:2: RuntimeWarning: divide by zero encountered in log\n",
      "  return (log(t))\n",
      "<lambdifygenerated-48720>:2: RuntimeWarning: divide by zero encountered in log\n",
      "  return (log(t))\n",
      "<lambdifygenerated-48722>:2: RuntimeWarning: divide by zero encountered in log\n",
      "  return (log(t))\n",
      "<lambdifygenerated-48726>:2: RuntimeWarning: divide by zero encountered in log\n",
      "  return (log(t))\n",
      "<lambdifygenerated-48734>:2: RuntimeWarning: divide by zero encountered in log\n",
      "  return (log(t))\n",
      "<lambdifygenerated-48767>:2: RuntimeWarning: divide by zero encountered in log\n",
      "  return (log(t))\n",
      "<lambdifygenerated-48783>:2: RuntimeWarning: divide by zero encountered in log\n",
      "  return (log(t))\n",
      "<lambdifygenerated-48798>:2: RuntimeWarning: divide by zero encountered in log\n",
      "  return (log(t))\n",
      "<lambdifygenerated-48811>:2: RuntimeWarning: divide by zero encountered in log\n",
      "  return (log(t))\n",
      "<lambdifygenerated-48828>:2: RuntimeWarning: divide by zero encountered in log\n",
      "  return (log(t))\n",
      "<lambdifygenerated-48863>:2: RuntimeWarning: divide by zero encountered in log\n",
      "  return (log(t))\n",
      "<lambdifygenerated-48879>:2: RuntimeWarning: divide by zero encountered in log\n",
      "  return (log(t))\n",
      "<lambdifygenerated-48897>:2: RuntimeWarning: divide by zero encountered in log\n",
      "  return (log(t))\n"
     ]
    },
    {
     "name": "stdout",
     "output_type": "stream",
     "text": [
      "[feateng]             400/          10343 features transformed\r"
     ]
    },
    {
     "name": "stderr",
     "output_type": "stream",
     "text": [
      "<lambdifygenerated-48914>:2: RuntimeWarning: divide by zero encountered in log\n",
      "  return (log(t))\n",
      "<lambdifygenerated-48931>:2: RuntimeWarning: divide by zero encountered in log\n",
      "  return (log(t))\n",
      "<lambdifygenerated-48949>:2: RuntimeWarning: divide by zero encountered in log\n",
      "  return (log(t))\n",
      "<lambdifygenerated-48966>:2: RuntimeWarning: divide by zero encountered in log\n",
      "  return (log(t))\n",
      "<lambdifygenerated-48982>:2: RuntimeWarning: divide by zero encountered in log\n",
      "  return (log(t))\n",
      "<lambdifygenerated-48998>:2: RuntimeWarning: divide by zero encountered in log\n",
      "  return (log(t))\n",
      "<lambdifygenerated-49017>:2: RuntimeWarning: divide by zero encountered in log\n",
      "  return (log(t))\n",
      "<lambdifygenerated-49034>:2: RuntimeWarning: divide by zero encountered in log\n",
      "  return (log(t))\n",
      "<lambdifygenerated-49051>:2: RuntimeWarning: divide by zero encountered in log\n",
      "  return (log(t))\n",
      "<lambdifygenerated-49065>:2: RuntimeWarning: divide by zero encountered in log\n",
      "  return (log(t))\n",
      "<lambdifygenerated-49079>:2: RuntimeWarning: divide by zero encountered in log\n",
      "  return (log(t))\n",
      "<lambdifygenerated-49092>:2: RuntimeWarning: divide by zero encountered in log\n",
      "  return (log(t))\n",
      "<lambdifygenerated-49109>:2: RuntimeWarning: divide by zero encountered in log\n",
      "  return (log(t))\n",
      "<lambdifygenerated-49126>:2: RuntimeWarning: divide by zero encountered in log\n",
      "  return (log(t))\n",
      "<lambdifygenerated-49142>:2: RuntimeWarning: divide by zero encountered in log\n",
      "  return (log(t))\n",
      "<lambdifygenerated-49157>:2: RuntimeWarning: divide by zero encountered in log\n",
      "  return (log(t))\n",
      "<lambdifygenerated-49172>:2: RuntimeWarning: divide by zero encountered in log\n",
      "  return (log(t))\n",
      "<lambdifygenerated-49184>:2: RuntimeWarning: divide by zero encountered in log\n",
      "  return (log(t))\n",
      "<lambdifygenerated-49188>:2: RuntimeWarning: divide by zero encountered in log\n",
      "  return (log(t))\n",
      "<lambdifygenerated-49203>:2: RuntimeWarning: divide by zero encountered in log\n",
      "  return (log(t))\n",
      "<lambdifygenerated-49219>:2: RuntimeWarning: divide by zero encountered in log\n",
      "  return (log(t))\n",
      "<lambdifygenerated-49234>:2: RuntimeWarning: divide by zero encountered in log\n",
      "  return (log(t))\n",
      "<lambdifygenerated-49248>:2: RuntimeWarning: divide by zero encountered in log\n",
      "  return (log(t))\n",
      "<lambdifygenerated-49265>:2: RuntimeWarning: divide by zero encountered in log\n",
      "  return (log(t))\n",
      "<lambdifygenerated-49282>:2: RuntimeWarning: divide by zero encountered in log\n",
      "  return (log(t))\n"
     ]
    },
    {
     "name": "stdout",
     "output_type": "stream",
     "text": [
      "[feateng]             500/          10343 features transformed\r"
     ]
    },
    {
     "name": "stderr",
     "output_type": "stream",
     "text": [
      "<lambdifygenerated-49296>:2: RuntimeWarning: divide by zero encountered in log\n",
      "  return (log(t))\n",
      "<lambdifygenerated-49309>:2: RuntimeWarning: divide by zero encountered in log\n",
      "  return (log(t))\n",
      "<lambdifygenerated-49323>:2: RuntimeWarning: divide by zero encountered in log\n",
      "  return (log(t))\n",
      "<lambdifygenerated-49340>:2: RuntimeWarning: divide by zero encountered in log\n",
      "  return (log(t))\n",
      "<lambdifygenerated-49357>:2: RuntimeWarning: divide by zero encountered in log\n",
      "  return (log(t))\n",
      "<lambdifygenerated-49373>:2: RuntimeWarning: divide by zero encountered in log\n",
      "  return (log(t))\n",
      "<lambdifygenerated-49390>:2: RuntimeWarning: divide by zero encountered in log\n",
      "  return (log(t))\n",
      "<lambdifygenerated-49407>:2: RuntimeWarning: divide by zero encountered in log\n",
      "  return (log(t))\n",
      "<lambdifygenerated-49423>:2: RuntimeWarning: divide by zero encountered in log\n",
      "  return (log(t))\n",
      "<lambdifygenerated-49440>:2: RuntimeWarning: divide by zero encountered in log\n",
      "  return (log(t))\n",
      "<lambdifygenerated-49454>:2: RuntimeWarning: divide by zero encountered in log\n",
      "  return (log(t))\n",
      "<lambdifygenerated-49467>:2: RuntimeWarning: divide by zero encountered in log\n",
      "  return (log(t))\n",
      "<lambdifygenerated-49480>:2: RuntimeWarning: divide by zero encountered in log\n",
      "  return (log(t))\n",
      "<lambdifygenerated-49497>:2: RuntimeWarning: divide by zero encountered in log\n",
      "  return (log(t))\n",
      "<lambdifygenerated-49514>:2: RuntimeWarning: divide by zero encountered in log\n",
      "  return (log(t))\n",
      "<lambdifygenerated-49530>:2: RuntimeWarning: divide by zero encountered in log\n",
      "  return (log(t))\n",
      "<lambdifygenerated-49544>:2: RuntimeWarning: divide by zero encountered in log\n",
      "  return (log(t))\n",
      "<lambdifygenerated-49557>:2: RuntimeWarning: divide by zero encountered in log\n",
      "  return (log(t))\n"
     ]
    },
    {
     "name": "stdout",
     "output_type": "stream",
     "text": [
      "[feateng]             600/          10343 features transformed\r"
     ]
    },
    {
     "name": "stderr",
     "output_type": "stream",
     "text": [
      "<lambdifygenerated-49793>:2: RuntimeWarning: divide by zero encountered in log\n",
      "  return (log(t))\n",
      "<lambdifygenerated-49808>:2: RuntimeWarning: divide by zero encountered in log\n",
      "  return (log(t))\n",
      "<lambdifygenerated-49821>:2: RuntimeWarning: divide by zero encountered in log\n",
      "  return (log(t))\n"
     ]
    },
    {
     "name": "stdout",
     "output_type": "stream",
     "text": [
      "[feateng]             700/          10343 features transformed\r"
     ]
    },
    {
     "name": "stderr",
     "output_type": "stream",
     "text": [
      "<lambdifygenerated-50326>:2: RuntimeWarning: divide by zero encountered in log\n",
      "  return (log(t))\n"
     ]
    },
    {
     "name": "stdout",
     "output_type": "stream",
     "text": [
      "[feateng]             800/          10343 features transformed\r"
     ]
    },
    {
     "name": "stderr",
     "output_type": "stream",
     "text": [
      "<lambdifygenerated-50715>:2: RuntimeWarning: divide by zero encountered in log\n",
      "  return (log(t))\n",
      "<lambdifygenerated-50735>:2: RuntimeWarning: divide by zero encountered in log\n",
      "  return (log(t))\n",
      "<lambdifygenerated-50755>:2: RuntimeWarning: divide by zero encountered in log\n",
      "  return (log(t))\n",
      "<lambdifygenerated-50775>:2: RuntimeWarning: divide by zero encountered in log\n",
      "  return (log(t))\n",
      "<lambdifygenerated-50794>:2: RuntimeWarning: divide by zero encountered in log\n",
      "  return (log(t))\n",
      "<lambdifygenerated-50813>:2: RuntimeWarning: divide by zero encountered in log\n",
      "  return (log(t))\n",
      "<lambdifygenerated-50832>:2: RuntimeWarning: divide by zero encountered in log\n",
      "  return (log(t))\n",
      "<lambdifygenerated-50851>:2: RuntimeWarning: divide by zero encountered in log\n",
      "  return (log(t))\n",
      "<lambdifygenerated-50870>:2: RuntimeWarning: divide by zero encountered in log\n",
      "  return (log(t))\n",
      "<lambdifygenerated-50889>:2: RuntimeWarning: divide by zero encountered in log\n",
      "  return (log(t))\n",
      "<lambdifygenerated-50926>:2: RuntimeWarning: divide by zero encountered in log\n",
      "  return (log(t))\n",
      "<lambdifygenerated-50944>:2: RuntimeWarning: divide by zero encountered in log\n",
      "  return (log(t))\n",
      "<lambdifygenerated-50960>:2: RuntimeWarning: divide by zero encountered in log\n",
      "  return (log(t))\n",
      "<lambdifygenerated-50970>:2: RuntimeWarning: divide by zero encountered in log\n",
      "  return (log(t))\n",
      "<lambdifygenerated-50975>:2: RuntimeWarning: divide by zero encountered in log\n",
      "  return (log(t))\n",
      "<lambdifygenerated-50985>:2: RuntimeWarning: divide by zero encountered in log\n",
      "  return (log(t))\n"
     ]
    },
    {
     "name": "stdout",
     "output_type": "stream",
     "text": [
      "[feateng]             900/          10343 features transformed\r"
     ]
    },
    {
     "name": "stderr",
     "output_type": "stream",
     "text": [
      "<lambdifygenerated-50988>:2: RuntimeWarning: divide by zero encountered in log\n",
      "  return (log(t))\n",
      "<lambdifygenerated-50996>:2: RuntimeWarning: divide by zero encountered in log\n",
      "  return (log(t))\n",
      "<lambdifygenerated-50998>:2: RuntimeWarning: divide by zero encountered in log\n",
      "  return (log(t))\n",
      "<lambdifygenerated-51010>:2: RuntimeWarning: divide by zero encountered in log\n",
      "  return (log(t))\n",
      "<lambdifygenerated-51029>:2: RuntimeWarning: divide by zero encountered in log\n",
      "  return (log(t))\n",
      "<lambdifygenerated-51049>:2: RuntimeWarning: divide by zero encountered in log\n",
      "  return (log(t))\n",
      "<lambdifygenerated-51069>:2: RuntimeWarning: divide by zero encountered in log\n",
      "  return (log(t))\n",
      "<lambdifygenerated-51087>:2: RuntimeWarning: divide by zero encountered in log\n",
      "  return (log(t))\n",
      "<lambdifygenerated-51106>:2: RuntimeWarning: divide by zero encountered in log\n",
      "  return (log(t))\n",
      "<lambdifygenerated-51128>:2: RuntimeWarning: divide by zero encountered in log\n",
      "  return (log(t))\n",
      "<lambdifygenerated-51170>:2: RuntimeWarning: divide by zero encountered in log\n",
      "  return (log(t))\n",
      "<lambdifygenerated-51190>:2: RuntimeWarning: divide by zero encountered in log\n",
      "  return (log(t))\n",
      "<lambdifygenerated-51210>:2: RuntimeWarning: divide by zero encountered in log\n",
      "  return (log(t))\n",
      "<lambdifygenerated-51230>:2: RuntimeWarning: divide by zero encountered in log\n",
      "  return (log(t))\n",
      "<lambdifygenerated-51248>:2: RuntimeWarning: divide by zero encountered in log\n",
      "  return (log(t))\n",
      "<lambdifygenerated-51269>:2: RuntimeWarning: divide by zero encountered in log\n",
      "  return (log(t))\n",
      "<lambdifygenerated-51291>:2: RuntimeWarning: divide by zero encountered in log\n",
      "  return (log(t))\n",
      "<lambdifygenerated-51311>:2: RuntimeWarning: divide by zero encountered in log\n",
      "  return (log(t))\n",
      "<lambdifygenerated-51330>:2: RuntimeWarning: divide by zero encountered in log\n",
      "  return (log(t))\n",
      "<lambdifygenerated-51351>:2: RuntimeWarning: divide by zero encountered in log\n",
      "  return (log(t))\n",
      "<lambdifygenerated-51371>:2: RuntimeWarning: divide by zero encountered in log\n",
      "  return (log(t))\n",
      "<lambdifygenerated-51391>:2: RuntimeWarning: divide by zero encountered in log\n",
      "  return (log(t))\n",
      "<lambdifygenerated-51409>:2: RuntimeWarning: divide by zero encountered in log\n",
      "  return (log(t))\n",
      "<lambdifygenerated-51423>:2: RuntimeWarning: divide by zero encountered in log\n",
      "  return (log(t))\n"
     ]
    },
    {
     "name": "stdout",
     "output_type": "stream",
     "text": [
      "[feateng]            1000/          10343 features transformed\r"
     ]
    },
    {
     "name": "stderr",
     "output_type": "stream",
     "text": [
      "<lambdifygenerated-51438>:2: RuntimeWarning: divide by zero encountered in log\n",
      "  return (log(t))\n",
      "<lambdifygenerated-51458>:2: RuntimeWarning: divide by zero encountered in log\n",
      "  return (log(t))\n",
      "<lambdifygenerated-51478>:2: RuntimeWarning: divide by zero encountered in log\n",
      "  return (log(t))\n",
      "<lambdifygenerated-51498>:2: RuntimeWarning: divide by zero encountered in log\n",
      "  return (log(t))\n",
      "<lambdifygenerated-51517>:2: RuntimeWarning: divide by zero encountered in log\n",
      "  return (log(t))\n",
      "<lambdifygenerated-51538>:2: RuntimeWarning: divide by zero encountered in log\n",
      "  return (log(t))\n",
      "<lambdifygenerated-51552>:2: RuntimeWarning: divide by zero encountered in log\n",
      "  return (log(t))\n",
      "<lambdifygenerated-51557>:2: RuntimeWarning: divide by zero encountered in log\n",
      "  return (log(t))\n",
      "<lambdifygenerated-51566>:2: RuntimeWarning: divide by zero encountered in log\n",
      "  return (log(t))\n",
      "<lambdifygenerated-51577>:2: RuntimeWarning: divide by zero encountered in log\n",
      "  return (log(t))\n",
      "<lambdifygenerated-51597>:2: RuntimeWarning: divide by zero encountered in log\n",
      "  return (log(t))\n",
      "<lambdifygenerated-51615>:2: RuntimeWarning: divide by zero encountered in log\n",
      "  return (log(t))\n",
      "<lambdifygenerated-51633>:2: RuntimeWarning: divide by zero encountered in log\n",
      "  return (log(t))\n",
      "<lambdifygenerated-51653>:2: RuntimeWarning: divide by zero encountered in log\n",
      "  return (log(t))\n",
      "<lambdifygenerated-51673>:2: RuntimeWarning: divide by zero encountered in log\n",
      "  return (log(t))\n",
      "<lambdifygenerated-51691>:2: RuntimeWarning: divide by zero encountered in log\n",
      "  return (log(t))\n",
      "<lambdifygenerated-51705>:2: RuntimeWarning: divide by zero encountered in log\n",
      "  return (log(t))\n",
      "<lambdifygenerated-51714>:2: RuntimeWarning: divide by zero encountered in log\n",
      "  return (log(t))\n",
      "<lambdifygenerated-51734>:2: RuntimeWarning: divide by zero encountered in log\n",
      "  return (log(t))\n",
      "<lambdifygenerated-51756>:2: RuntimeWarning: divide by zero encountered in log\n",
      "  return (log(t))\n",
      "<lambdifygenerated-51776>:2: RuntimeWarning: divide by zero encountered in log\n",
      "  return (log(t))\n",
      "<lambdifygenerated-51794>:2: RuntimeWarning: divide by zero encountered in log\n",
      "  return (log(t))\n",
      "<lambdifygenerated-51813>:2: RuntimeWarning: divide by zero encountered in log\n",
      "  return (log(t))\n",
      "<lambdifygenerated-51832>:2: RuntimeWarning: divide by zero encountered in log\n",
      "  return (log(t))\n",
      "<lambdifygenerated-51850>:2: RuntimeWarning: divide by zero encountered in log\n",
      "  return (log(t))\n",
      "<lambdifygenerated-51868>:2: RuntimeWarning: divide by zero encountered in log\n",
      "  return (log(t))\n",
      "<lambdifygenerated-51879>:2: RuntimeWarning: divide by zero encountered in log\n",
      "  return (log(t))\n",
      "<lambdifygenerated-51888>:2: RuntimeWarning: divide by zero encountered in log\n",
      "  return (log(t))\n"
     ]
    },
    {
     "name": "stdout",
     "output_type": "stream",
     "text": [
      "[feateng]            1100/          10343 features transformed\r"
     ]
    },
    {
     "name": "stderr",
     "output_type": "stream",
     "text": [
      "<lambdifygenerated-51908>:2: RuntimeWarning: divide by zero encountered in log\n",
      "  return (log(t))\n",
      "<lambdifygenerated-51928>:2: RuntimeWarning: divide by zero encountered in log\n",
      "  return (log(t))\n",
      "<lambdifygenerated-51948>:2: RuntimeWarning: divide by zero encountered in log\n",
      "  return (log(t))\n",
      "<lambdifygenerated-51966>:2: RuntimeWarning: divide by zero encountered in log\n",
      "  return (log(t))\n",
      "<lambdifygenerated-52206>:2: RuntimeWarning: divide by zero encountered in log\n",
      "  return (log(t))\n",
      "<lambdifygenerated-52222>:2: RuntimeWarning: divide by zero encountered in log\n",
      "  return (log(t))\n",
      "<lambdifygenerated-52237>:2: RuntimeWarning: divide by zero encountered in log\n",
      "  return (log(t))\n"
     ]
    },
    {
     "name": "stdout",
     "output_type": "stream",
     "text": [
      "[feateng]            1200/          10343 features transformed\r"
     ]
    },
    {
     "name": "stderr",
     "output_type": "stream",
     "text": [
      "<lambdifygenerated-52810>:2: RuntimeWarning: divide by zero encountered in log\n",
      "  return (log(t))\n"
     ]
    },
    {
     "name": "stdout",
     "output_type": "stream",
     "text": [
      "[feateng]            1400/          10343 features transformed\r"
     ]
    },
    {
     "name": "stderr",
     "output_type": "stream",
     "text": [
      "<lambdifygenerated-53439>:2: RuntimeWarning: divide by zero encountered in log\n",
      "  return (log(t))\n",
      "<lambdifygenerated-53455>:2: RuntimeWarning: divide by zero encountered in log\n",
      "  return (log(t))\n",
      "<lambdifygenerated-53469>:2: RuntimeWarning: divide by zero encountered in log\n",
      "  return (log(t))\n"
     ]
    },
    {
     "name": "stdout",
     "output_type": "stream",
     "text": [
      "[feateng]            1500/          10343 features transformed\r"
     ]
    },
    {
     "name": "stderr",
     "output_type": "stream",
     "text": [
      "<lambdifygenerated-54021>:2: RuntimeWarning: divide by zero encountered in log\n",
      "  return (log(t))\n"
     ]
    },
    {
     "name": "stdout",
     "output_type": "stream",
     "text": [
      "[feateng]            1600/          10343 features transformed\r"
     ]
    },
    {
     "name": "stderr",
     "output_type": "stream",
     "text": [
      "<lambdifygenerated-54604>:2: RuntimeWarning: divide by zero encountered in log\n",
      "  return (log(t))\n",
      "<lambdifygenerated-54621>:2: RuntimeWarning: divide by zero encountered in log\n",
      "  return (log(t))\n",
      "<lambdifygenerated-54634>:2: RuntimeWarning: divide by zero encountered in log\n",
      "  return (log(t))\n"
     ]
    },
    {
     "name": "stdout",
     "output_type": "stream",
     "text": [
      "[feateng]            1800/          10343 features transformed\r"
     ]
    },
    {
     "name": "stderr",
     "output_type": "stream",
     "text": [
      "<lambdifygenerated-55147>:2: RuntimeWarning: divide by zero encountered in log\n",
      "  return (log(t))\n"
     ]
    },
    {
     "name": "stdout",
     "output_type": "stream",
     "text": [
      "[feateng]            1900/          10343 features transformed\r"
     ]
    },
    {
     "name": "stderr",
     "output_type": "stream",
     "text": [
      "<lambdifygenerated-55705>:2: RuntimeWarning: divide by zero encountered in log\n",
      "  return (log(t))\n",
      "<lambdifygenerated-55721>:2: RuntimeWarning: divide by zero encountered in log\n",
      "  return (log(t))\n",
      "<lambdifygenerated-55735>:2: RuntimeWarning: divide by zero encountered in log\n",
      "  return (log(t))\n"
     ]
    },
    {
     "name": "stdout",
     "output_type": "stream",
     "text": [
      "[feateng]            2000/          10343 features transformed\r"
     ]
    },
    {
     "name": "stderr",
     "output_type": "stream",
     "text": [
      "<lambdifygenerated-56264>:2: RuntimeWarning: divide by zero encountered in log\n",
      "  return (log(t))\n"
     ]
    },
    {
     "name": "stdout",
     "output_type": "stream",
     "text": [
      "[feateng]            2200/          10343 features transformed\r"
     ]
    },
    {
     "name": "stderr",
     "output_type": "stream",
     "text": [
      "<lambdifygenerated-56817>:2: RuntimeWarning: divide by zero encountered in log\n",
      "  return (log(t))\n",
      "<lambdifygenerated-56832>:2: RuntimeWarning: divide by zero encountered in log\n",
      "  return (log(t))\n",
      "<lambdifygenerated-56845>:2: RuntimeWarning: divide by zero encountered in log\n",
      "  return (log(t))\n"
     ]
    },
    {
     "name": "stdout",
     "output_type": "stream",
     "text": [
      "[feateng]            2300/          10343 features transformed\r"
     ]
    },
    {
     "name": "stderr",
     "output_type": "stream",
     "text": [
      "<lambdifygenerated-57343>:2: RuntimeWarning: divide by zero encountered in log\n",
      "  return (log(t))\n",
      "<lambdifygenerated-57356>:2: RuntimeWarning: divide by zero encountered in log\n",
      "  return (log(t))\n",
      "<lambdifygenerated-57379>:2: RuntimeWarning: divide by zero encountered in log\n",
      "  return (log(t))\n",
      "<lambdifygenerated-57396>:2: RuntimeWarning: divide by zero encountered in log\n",
      "  return (log(t))\n",
      "<lambdifygenerated-57410>:2: RuntimeWarning: divide by zero encountered in log\n",
      "  return (log(t))\n"
     ]
    },
    {
     "name": "stdout",
     "output_type": "stream",
     "text": [
      "[feateng]            2400/          10343 features transformed\r"
     ]
    },
    {
     "name": "stderr",
     "output_type": "stream",
     "text": [
      "<lambdifygenerated-57875>:2: RuntimeWarning: divide by zero encountered in log\n",
      "  return (log(t))\n",
      "<lambdifygenerated-57892>:2: RuntimeWarning: divide by zero encountered in log\n",
      "  return (log(t))\n",
      "<lambdifygenerated-57904>:2: RuntimeWarning: divide by zero encountered in log\n",
      "  return (log(t))\n"
     ]
    },
    {
     "name": "stdout",
     "output_type": "stream",
     "text": [
      "[feateng]            2500/          10343 features transformed\r"
     ]
    },
    {
     "name": "stderr",
     "output_type": "stream",
     "text": [
      "<lambdifygenerated-58422>:2: RuntimeWarning: divide by zero encountered in log\n",
      "  return (log(t))\n"
     ]
    },
    {
     "name": "stdout",
     "output_type": "stream",
     "text": [
      "[feateng]            2600/          10343 features transformed\r"
     ]
    },
    {
     "name": "stderr",
     "output_type": "stream",
     "text": [
      "<lambdifygenerated-58929>:2: RuntimeWarning: divide by zero encountered in log\n",
      "  return (log(t))\n",
      "<lambdifygenerated-58946>:2: RuntimeWarning: divide by zero encountered in log\n",
      "  return (log(t))\n"
     ]
    },
    {
     "name": "stdout",
     "output_type": "stream",
     "text": [
      "[feateng]            2700/          10343 features transformed\r"
     ]
    },
    {
     "name": "stderr",
     "output_type": "stream",
     "text": [
      "<lambdifygenerated-58959>:2: RuntimeWarning: divide by zero encountered in log\n",
      "  return (log(t))\n"
     ]
    },
    {
     "name": "stdout",
     "output_type": "stream",
     "text": [
      "[feateng]            2800/          10343 features transformed\r"
     ]
    },
    {
     "name": "stderr",
     "output_type": "stream",
     "text": [
      "<lambdifygenerated-59490>:2: RuntimeWarning: divide by zero encountered in log\n",
      "  return (log(t))\n"
     ]
    },
    {
     "name": "stdout",
     "output_type": "stream",
     "text": [
      "[feateng]            2900/          10343 features transformed\r"
     ]
    },
    {
     "name": "stderr",
     "output_type": "stream",
     "text": [
      "<lambdifygenerated-59981>:2: RuntimeWarning: divide by zero encountered in log\n",
      "  return (log(t))\n",
      "<lambdifygenerated-59998>:2: RuntimeWarning: divide by zero encountered in log\n",
      "  return (log(t))\n",
      "<lambdifygenerated-60010>:2: RuntimeWarning: divide by zero encountered in log\n",
      "  return (log(t))\n"
     ]
    },
    {
     "name": "stdout",
     "output_type": "stream",
     "text": [
      "[feateng]            3000/          10343 features transformed\r"
     ]
    },
    {
     "name": "stderr",
     "output_type": "stream",
     "text": [
      "<lambdifygenerated-60494>:2: RuntimeWarning: divide by zero encountered in log\n",
      "  return (log(t))\n"
     ]
    },
    {
     "name": "stdout",
     "output_type": "stream",
     "text": [
      "[feateng]            3100/          10343 features transformed\r"
     ]
    },
    {
     "name": "stderr",
     "output_type": "stream",
     "text": [
      "<lambdifygenerated-60951>:2: RuntimeWarning: divide by zero encountered in log\n",
      "  return (log(t))\n",
      "<lambdifygenerated-60966>:2: RuntimeWarning: divide by zero encountered in log\n",
      "  return (log(t))\n",
      "<lambdifygenerated-60979>:2: RuntimeWarning: divide by zero encountered in log\n",
      "  return (log(t))\n"
     ]
    },
    {
     "name": "stdout",
     "output_type": "stream",
     "text": [
      "[feateng]            3300/          10343 features transformed\r"
     ]
    },
    {
     "name": "stderr",
     "output_type": "stream",
     "text": [
      "<lambdifygenerated-61501>:2: RuntimeWarning: divide by zero encountered in log\n",
      "  return (log(t))\n"
     ]
    },
    {
     "name": "stdout",
     "output_type": "stream",
     "text": [
      "[feateng]            3400/          10343 features transformed\r"
     ]
    },
    {
     "name": "stderr",
     "output_type": "stream",
     "text": [
      "<lambdifygenerated-61945>:2: RuntimeWarning: divide by zero encountered in log\n",
      "  return (log(t))\n",
      "<lambdifygenerated-61961>:2: RuntimeWarning: divide by zero encountered in log\n",
      "  return (log(t))\n",
      "<lambdifygenerated-61974>:2: RuntimeWarning: divide by zero encountered in log\n",
      "  return (log(t))\n"
     ]
    },
    {
     "name": "stdout",
     "output_type": "stream",
     "text": [
      "[feateng]            3500/          10343 features transformed\r"
     ]
    },
    {
     "name": "stderr",
     "output_type": "stream",
     "text": [
      "<lambdifygenerated-62471>:2: RuntimeWarning: divide by zero encountered in log\n",
      "  return (log(t))\n"
     ]
    },
    {
     "name": "stdout",
     "output_type": "stream",
     "text": [
      "[feateng]            3800/          10343 features transformed\r"
     ]
    },
    {
     "name": "stderr",
     "output_type": "stream",
     "text": [
      "<lambdifygenerated-63867>:2: RuntimeWarning: divide by zero encountered in log\n",
      "  return (log(t))\n",
      "<lambdifygenerated-63883>:2: RuntimeWarning: divide by zero encountered in log\n",
      "  return (log(t))\n",
      "<lambdifygenerated-63898>:2: RuntimeWarning: divide by zero encountered in log\n",
      "  return (log(t))\n"
     ]
    },
    {
     "name": "stdout",
     "output_type": "stream",
     "text": [
      "[feateng]            3900/          10343 features transformed\r"
     ]
    },
    {
     "name": "stderr",
     "output_type": "stream",
     "text": [
      "<lambdifygenerated-64445>:2: RuntimeWarning: divide by zero encountered in log\n",
      "  return (log(t))\n"
     ]
    },
    {
     "name": "stdout",
     "output_type": "stream",
     "text": [
      "[feateng]            4000/          10343 features transformed\r"
     ]
    },
    {
     "name": "stderr",
     "output_type": "stream",
     "text": [
      "<lambdifygenerated-64878>:2: RuntimeWarning: divide by zero encountered in log\n",
      "  return (log(t))\n",
      "<lambdifygenerated-64894>:2: RuntimeWarning: divide by zero encountered in log\n",
      "  return (log(t))\n"
     ]
    },
    {
     "name": "stdout",
     "output_type": "stream",
     "text": [
      "[feateng]            4100/          10343 features transformed\r"
     ]
    },
    {
     "name": "stderr",
     "output_type": "stream",
     "text": [
      "<lambdifygenerated-64906>:2: RuntimeWarning: divide by zero encountered in log\n",
      "  return (log(t))\n"
     ]
    },
    {
     "name": "stdout",
     "output_type": "stream",
     "text": [
      "[feateng]            4200/          10343 features transformed\r"
     ]
    },
    {
     "name": "stderr",
     "output_type": "stream",
     "text": [
      "<lambdifygenerated-65376>:2: RuntimeWarning: divide by zero encountered in log\n",
      "  return (log(t))\n"
     ]
    },
    {
     "name": "stdout",
     "output_type": "stream",
     "text": [
      "[feateng]            4300/          10343 features transformed\r"
     ]
    },
    {
     "name": "stderr",
     "output_type": "stream",
     "text": [
      "<lambdifygenerated-65740>:2: RuntimeWarning: divide by zero encountered in log\n",
      "  return (log(t))\n",
      "<lambdifygenerated-65754>:2: RuntimeWarning: divide by zero encountered in log\n",
      "  return (log(t))\n",
      "<lambdifygenerated-65766>:2: RuntimeWarning: divide by zero encountered in log\n",
      "  return (log(t))\n"
     ]
    },
    {
     "name": "stdout",
     "output_type": "stream",
     "text": [
      "[feateng]            4400/          10343 features transformed\r"
     ]
    },
    {
     "name": "stderr",
     "output_type": "stream",
     "text": [
      "<lambdifygenerated-66136>:2: RuntimeWarning: divide by zero encountered in log\n",
      "  return (log(t))\n"
     ]
    },
    {
     "name": "stdout",
     "output_type": "stream",
     "text": [
      "[feateng]            4500/          10343 features transformed\r"
     ]
    },
    {
     "name": "stderr",
     "output_type": "stream",
     "text": [
      "<lambdifygenerated-66426>:2: RuntimeWarning: divide by zero encountered in log\n",
      "  return (log(t))\n",
      "<lambdifygenerated-66429>:2: RuntimeWarning: divide by zero encountered in log\n",
      "  return (log(t))\n",
      "<lambdifygenerated-66435>:2: RuntimeWarning: divide by zero encountered in log\n",
      "  return (log(t))\n",
      "<lambdifygenerated-66439>:2: RuntimeWarning: divide by zero encountered in log\n",
      "  return (log(t))\n",
      "<lambdifygenerated-66441>:2: RuntimeWarning: divide by zero encountered in log\n",
      "  return (log(t))\n",
      "<lambdifygenerated-66446>:2: RuntimeWarning: divide by zero encountered in log\n",
      "  return (log(t))\n",
      "<lambdifygenerated-66454>:2: RuntimeWarning: divide by zero encountered in log\n",
      "  return (log(t))\n",
      "<lambdifygenerated-66489>:2: RuntimeWarning: divide by zero encountered in log\n",
      "  return (log(t))\n",
      "<lambdifygenerated-66506>:2: RuntimeWarning: divide by zero encountered in log\n",
      "  return (log(t))\n",
      "<lambdifygenerated-66522>:2: RuntimeWarning: divide by zero encountered in log\n",
      "  return (log(t))\n",
      "<lambdifygenerated-66536>:2: RuntimeWarning: divide by zero encountered in log\n",
      "  return (log(t))\n",
      "<lambdifygenerated-66554>:2: RuntimeWarning: divide by zero encountered in log\n",
      "  return (log(t))\n",
      "<lambdifygenerated-66592>:2: RuntimeWarning: divide by zero encountered in log\n",
      "  return (log(t))\n",
      "<lambdifygenerated-66610>:2: RuntimeWarning: divide by zero encountered in log\n",
      "  return (log(t))\n",
      "<lambdifygenerated-66629>:2: RuntimeWarning: divide by zero encountered in log\n",
      "  return (log(t))\n",
      "<lambdifygenerated-66648>:2: RuntimeWarning: divide by zero encountered in log\n",
      "  return (log(t))\n",
      "<lambdifygenerated-66666>:2: RuntimeWarning: divide by zero encountered in log\n",
      "  return (log(t))\n",
      "<lambdifygenerated-66684>:2: RuntimeWarning: divide by zero encountered in log\n",
      "  return (log(t))\n",
      "<lambdifygenerated-66702>:2: RuntimeWarning: divide by zero encountered in log\n",
      "  return (log(t))\n"
     ]
    },
    {
     "name": "stdout",
     "output_type": "stream",
     "text": [
      "[feateng]            4600/          10343 features transformed\r"
     ]
    },
    {
     "name": "stderr",
     "output_type": "stream",
     "text": [
      "<lambdifygenerated-66719>:2: RuntimeWarning: divide by zero encountered in log\n",
      "  return (log(t))\n",
      "<lambdifygenerated-66738>:2: RuntimeWarning: divide by zero encountered in log\n",
      "  return (log(t))\n",
      "<lambdifygenerated-66758>:2: RuntimeWarning: divide by zero encountered in log\n",
      "  return (log(t))\n",
      "<lambdifygenerated-66776>:2: RuntimeWarning: divide by zero encountered in log\n",
      "  return (log(t))\n",
      "<lambdifygenerated-66794>:2: RuntimeWarning: divide by zero encountered in log\n",
      "  return (log(t))\n",
      "<lambdifygenerated-66809>:2: RuntimeWarning: divide by zero encountered in log\n",
      "  return (log(t))\n",
      "<lambdifygenerated-66823>:2: RuntimeWarning: divide by zero encountered in log\n",
      "  return (log(t))\n",
      "<lambdifygenerated-66837>:2: RuntimeWarning: divide by zero encountered in log\n",
      "  return (log(t))\n",
      "<lambdifygenerated-66855>:2: RuntimeWarning: divide by zero encountered in log\n",
      "  return (log(t))\n",
      "<lambdifygenerated-66873>:2: RuntimeWarning: divide by zero encountered in log\n",
      "  return (log(t))\n",
      "<lambdifygenerated-66890>:2: RuntimeWarning: divide by zero encountered in log\n",
      "  return (log(t))\n",
      "<lambdifygenerated-66907>:2: RuntimeWarning: divide by zero encountered in log\n",
      "  return (log(t))\n",
      "<lambdifygenerated-66926>:2: RuntimeWarning: divide by zero encountered in log\n",
      "  return (log(t))\n",
      "<lambdifygenerated-66939>:2: RuntimeWarning: divide by zero encountered in log\n",
      "  return (log(t))\n",
      "<lambdifygenerated-66943>:2: RuntimeWarning: divide by zero encountered in log\n",
      "  return (log(t))\n",
      "<lambdifygenerated-66959>:2: RuntimeWarning: divide by zero encountered in log\n",
      "  return (log(t))\n",
      "<lambdifygenerated-66976>:2: RuntimeWarning: divide by zero encountered in log\n",
      "  return (log(t))\n",
      "<lambdifygenerated-66992>:2: RuntimeWarning: divide by zero encountered in log\n",
      "  return (log(t))\n",
      "<lambdifygenerated-67008>:2: RuntimeWarning: divide by zero encountered in log\n",
      "  return (log(t))\n",
      "<lambdifygenerated-67026>:2: RuntimeWarning: divide by zero encountered in log\n",
      "  return (log(t))\n",
      "<lambdifygenerated-67044>:2: RuntimeWarning: divide by zero encountered in log\n",
      "  return (log(t))\n",
      "<lambdifygenerated-67061>:2: RuntimeWarning: divide by zero encountered in log\n",
      "  return (log(t))\n",
      "<lambdifygenerated-67071>:2: RuntimeWarning: divide by zero encountered in log\n",
      "  return (log(t))\n",
      "<lambdifygenerated-67079>:2: RuntimeWarning: divide by zero encountered in log\n",
      "  return (log(t))\n",
      "<lambdifygenerated-67097>:2: RuntimeWarning: divide by zero encountered in log\n",
      "  return (log(t))\n",
      "<lambdifygenerated-67115>:2: RuntimeWarning: divide by zero encountered in log\n",
      "  return (log(t))\n",
      "<lambdifygenerated-67132>:2: RuntimeWarning: divide by zero encountered in log\n",
      "  return (log(t))\n",
      "<lambdifygenerated-67150>:2: RuntimeWarning: divide by zero encountered in log\n",
      "  return (log(t))\n"
     ]
    },
    {
     "name": "stdout",
     "output_type": "stream",
     "text": [
      "[feateng]            4700/          10343 features transformed\r"
     ]
    },
    {
     "name": "stderr",
     "output_type": "stream",
     "text": [
      "<lambdifygenerated-67167>:2: RuntimeWarning: divide by zero encountered in log\n",
      "  return (log(t))\n",
      "<lambdifygenerated-67184>:2: RuntimeWarning: divide by zero encountered in log\n",
      "  return (log(t))\n",
      "<lambdifygenerated-67202>:2: RuntimeWarning: divide by zero encountered in log\n",
      "  return (log(t))\n",
      "<lambdifygenerated-67219>:2: RuntimeWarning: divide by zero encountered in log\n",
      "  return (log(t))\n",
      "<lambdifygenerated-67232>:2: RuntimeWarning: divide by zero encountered in log\n",
      "  return (log(t))\n",
      "<lambdifygenerated-67246>:2: RuntimeWarning: divide by zero encountered in log\n",
      "  return (log(t))\n",
      "<lambdifygenerated-67264>:2: RuntimeWarning: divide by zero encountered in log\n",
      "  return (log(t))\n",
      "<lambdifygenerated-67282>:2: RuntimeWarning: divide by zero encountered in log\n",
      "  return (log(t))\n",
      "<lambdifygenerated-67299>:2: RuntimeWarning: divide by zero encountered in log\n",
      "  return (log(t))\n",
      "<lambdifygenerated-67315>:2: RuntimeWarning: divide by zero encountered in log\n",
      "  return (log(t))\n",
      "<lambdifygenerated-67326>:2: RuntimeWarning: divide by zero encountered in log\n",
      "  return (log(t))\n",
      "<lambdifygenerated-67328>:2: RuntimeWarning: divide by zero encountered in log\n",
      "  return (log(t))\n",
      "<lambdifygenerated-67333>:2: RuntimeWarning: divide by zero encountered in log\n",
      "  return (log(t))\n",
      "<lambdifygenerated-67340>:2: RuntimeWarning: divide by zero encountered in log\n",
      "  return (log(t))\n",
      "<lambdifygenerated-67370>:2: RuntimeWarning: divide by zero encountered in log\n",
      "  return (log(t))\n",
      "<lambdifygenerated-67385>:2: RuntimeWarning: divide by zero encountered in log\n",
      "  return (log(t))\n",
      "<lambdifygenerated-67399>:2: RuntimeWarning: divide by zero encountered in log\n",
      "  return (log(t))\n",
      "<lambdifygenerated-67410>:2: RuntimeWarning: divide by zero encountered in log\n",
      "  return (log(t))\n",
      "<lambdifygenerated-67425>:2: RuntimeWarning: divide by zero encountered in log\n",
      "  return (log(t))\n",
      "<lambdifygenerated-67456>:2: RuntimeWarning: divide by zero encountered in log\n",
      "  return (log(t))\n",
      "<lambdifygenerated-67472>:2: RuntimeWarning: divide by zero encountered in log\n",
      "  return (log(t))\n",
      "<lambdifygenerated-67488>:2: RuntimeWarning: divide by zero encountered in log\n",
      "  return (log(t))\n",
      "<lambdifygenerated-67504>:2: RuntimeWarning: divide by zero encountered in log\n",
      "  return (log(t))\n",
      "<lambdifygenerated-67520>:2: RuntimeWarning: divide by zero encountered in log\n",
      "  return (log(t))\n",
      "<lambdifygenerated-67533>:2: RuntimeWarning: divide by zero encountered in log\n",
      "  return (log(t))\n"
     ]
    },
    {
     "name": "stdout",
     "output_type": "stream",
     "text": [
      "[feateng]            4800/          10343 features transformed\r"
     ]
    },
    {
     "name": "stderr",
     "output_type": "stream",
     "text": [
      "<lambdifygenerated-67548>:2: RuntimeWarning: divide by zero encountered in log\n",
      "  return (log(t))\n",
      "<lambdifygenerated-67563>:2: RuntimeWarning: divide by zero encountered in log\n",
      "  return (log(t))\n",
      "<lambdifygenerated-67577>:2: RuntimeWarning: divide by zero encountered in log\n",
      "  return (log(t))\n",
      "<lambdifygenerated-67590>:2: RuntimeWarning: divide by zero encountered in log\n",
      "  return (log(t))\n",
      "<lambdifygenerated-67606>:2: RuntimeWarning: divide by zero encountered in log\n",
      "  return (log(t))\n",
      "<lambdifygenerated-67621>:2: RuntimeWarning: divide by zero encountered in log\n",
      "  return (log(t))\n",
      "<lambdifygenerated-67635>:2: RuntimeWarning: divide by zero encountered in log\n",
      "  return (log(t))\n",
      "<lambdifygenerated-67645>:2: RuntimeWarning: divide by zero encountered in log\n",
      "  return (log(t))\n",
      "<lambdifygenerated-67654>:2: RuntimeWarning: divide by zero encountered in log\n",
      "  return (log(t))\n",
      "<lambdifygenerated-67670>:2: RuntimeWarning: divide by zero encountered in log\n",
      "  return (log(t))\n",
      "<lambdifygenerated-67685>:2: RuntimeWarning: divide by zero encountered in log\n",
      "  return (log(t))\n",
      "<lambdifygenerated-67700>:2: RuntimeWarning: divide by zero encountered in log\n",
      "  return (log(t))\n",
      "<lambdifygenerated-67713>:2: RuntimeWarning: divide by zero encountered in log\n",
      "  return (log(t))\n",
      "<lambdifygenerated-67726>:2: RuntimeWarning: divide by zero encountered in log\n",
      "  return (log(t))\n",
      "<lambdifygenerated-67738>:2: RuntimeWarning: divide by zero encountered in log\n",
      "  return (log(t))\n",
      "<lambdifygenerated-67741>:2: RuntimeWarning: divide by zero encountered in log\n",
      "  return (log(t))\n",
      "<lambdifygenerated-67754>:2: RuntimeWarning: divide by zero encountered in log\n",
      "  return (log(t))\n",
      "<lambdifygenerated-67769>:2: RuntimeWarning: divide by zero encountered in log\n",
      "  return (log(t))\n",
      "<lambdifygenerated-67783>:2: RuntimeWarning: divide by zero encountered in log\n",
      "  return (log(t))\n",
      "<lambdifygenerated-67794>:2: RuntimeWarning: divide by zero encountered in log\n",
      "  return (log(t))\n",
      "<lambdifygenerated-67810>:2: RuntimeWarning: divide by zero encountered in log\n",
      "  return (log(t))\n",
      "<lambdifygenerated-67825>:2: RuntimeWarning: divide by zero encountered in log\n",
      "  return (log(t))\n",
      "<lambdifygenerated-67839>:2: RuntimeWarning: divide by zero encountered in log\n",
      "  return (log(t))\n",
      "<lambdifygenerated-67852>:2: RuntimeWarning: divide by zero encountered in log\n",
      "  return (log(t))\n",
      "<lambdifygenerated-67864>:2: RuntimeWarning: divide by zero encountered in log\n",
      "  return (log(t))\n",
      "<lambdifygenerated-67880>:2: RuntimeWarning: divide by zero encountered in log\n",
      "  return (log(t))\n"
     ]
    },
    {
     "name": "stdout",
     "output_type": "stream",
     "text": [
      "[feateng]            4900/          10343 features transformed\r"
     ]
    },
    {
     "name": "stderr",
     "output_type": "stream",
     "text": [
      "<lambdifygenerated-67895>:2: RuntimeWarning: divide by zero encountered in log\n",
      "  return (log(t))\n",
      "<lambdifygenerated-67910>:2: RuntimeWarning: divide by zero encountered in log\n",
      "  return (log(t))\n",
      "<lambdifygenerated-67923>:2: RuntimeWarning: divide by zero encountered in log\n",
      "  return (log(t))\n",
      "<lambdifygenerated-67936>:2: RuntimeWarning: divide by zero encountered in log\n",
      "  return (log(t))\n",
      "<lambdifygenerated-67951>:2: RuntimeWarning: divide by zero encountered in log\n",
      "  return (log(t))\n",
      "<lambdifygenerated-67966>:2: RuntimeWarning: divide by zero encountered in log\n",
      "  return (log(t))\n",
      "<lambdifygenerated-67980>:2: RuntimeWarning: divide by zero encountered in log\n",
      "  return (log(t))\n",
      "<lambdifygenerated-67993>:2: RuntimeWarning: divide by zero encountered in log\n",
      "  return (log(t))\n",
      "<lambdifygenerated-68005>:2: RuntimeWarning: divide by zero encountered in log\n",
      "  return (log(t))\n",
      "<lambdifygenerated-68021>:2: RuntimeWarning: divide by zero encountered in log\n",
      "  return (log(t))\n",
      "<lambdifygenerated-68036>:2: RuntimeWarning: divide by zero encountered in log\n",
      "  return (log(t))\n",
      "<lambdifygenerated-68051>:2: RuntimeWarning: divide by zero encountered in log\n",
      "  return (log(t))\n",
      "<lambdifygenerated-68064>:2: RuntimeWarning: divide by zero encountered in log\n",
      "  return (log(t))\n",
      "<lambdifygenerated-68074>:2: RuntimeWarning: divide by zero encountered in log\n",
      "  return (log(t))\n",
      "<lambdifygenerated-68097>:2: RuntimeWarning: divide by zero encountered in log\n",
      "  return (log(t))\n",
      "<lambdifygenerated-68108>:2: RuntimeWarning: divide by zero encountered in log\n",
      "  return (log(t))\n",
      "<lambdifygenerated-68118>:2: RuntimeWarning: divide by zero encountered in log\n",
      "  return (log(t))\n",
      "<lambdifygenerated-68128>:2: RuntimeWarning: divide by zero encountered in log\n",
      "  return (log(t))\n",
      "<lambdifygenerated-68139>:2: RuntimeWarning: divide by zero encountered in log\n",
      "  return (log(t))\n",
      "<lambdifygenerated-68162>:2: RuntimeWarning: divide by zero encountered in log\n",
      "  return (log(t))\n",
      "<lambdifygenerated-68174>:2: RuntimeWarning: divide by zero encountered in log\n",
      "  return (log(t))\n",
      "<lambdifygenerated-68186>:2: RuntimeWarning: divide by zero encountered in log\n",
      "  return (log(t))\n",
      "<lambdifygenerated-68197>:2: RuntimeWarning: divide by zero encountered in log\n",
      "  return (log(t))\n",
      "<lambdifygenerated-68209>:2: RuntimeWarning: divide by zero encountered in log\n",
      "  return (log(t))\n"
     ]
    },
    {
     "name": "stdout",
     "output_type": "stream",
     "text": [
      "[feateng]            5000/          10343 features transformed\r"
     ]
    },
    {
     "name": "stderr",
     "output_type": "stream",
     "text": [
      "<lambdifygenerated-68219>:2: RuntimeWarning: divide by zero encountered in log\n",
      "  return (log(t))\n",
      "<lambdifygenerated-68230>:2: RuntimeWarning: divide by zero encountered in log\n",
      "  return (log(t))\n",
      "<lambdifygenerated-68241>:2: RuntimeWarning: divide by zero encountered in log\n",
      "  return (log(t))\n",
      "<lambdifygenerated-68251>:2: RuntimeWarning: divide by zero encountered in log\n",
      "  return (log(t))\n",
      "<lambdifygenerated-68261>:2: RuntimeWarning: divide by zero encountered in log\n",
      "  return (log(t))\n",
      "<lambdifygenerated-68271>:2: RuntimeWarning: divide by zero encountered in log\n",
      "  return (log(t))\n",
      "<lambdifygenerated-68282>:2: RuntimeWarning: divide by zero encountered in log\n",
      "  return (log(t))\n",
      "<lambdifygenerated-68292>:2: RuntimeWarning: divide by zero encountered in log\n",
      "  return (log(t))\n",
      "<lambdifygenerated-68302>:2: RuntimeWarning: divide by zero encountered in log\n",
      "  return (log(t))\n",
      "<lambdifygenerated-68310>:2: RuntimeWarning: divide by zero encountered in log\n",
      "  return (log(t))\n",
      "<lambdifygenerated-68322>:2: RuntimeWarning: divide by zero encountered in log\n",
      "  return (log(t))\n",
      "<lambdifygenerated-68333>:2: RuntimeWarning: divide by zero encountered in log\n",
      "  return (log(t))\n",
      "<lambdifygenerated-68344>:2: RuntimeWarning: divide by zero encountered in log\n",
      "  return (log(t))\n",
      "<lambdifygenerated-68354>:2: RuntimeWarning: divide by zero encountered in log\n",
      "  return (log(t))\n",
      "<lambdifygenerated-68364>:2: RuntimeWarning: divide by zero encountered in log\n",
      "  return (log(t))\n",
      "<lambdifygenerated-68373>:2: RuntimeWarning: divide by zero encountered in log\n",
      "  return (log(t))\n",
      "<lambdifygenerated-68375>:2: RuntimeWarning: divide by zero encountered in log\n",
      "  return (log(t))\n",
      "<lambdifygenerated-68384>:2: RuntimeWarning: divide by zero encountered in log\n",
      "  return (log(t))\n",
      "<lambdifygenerated-68395>:2: RuntimeWarning: divide by zero encountered in log\n",
      "  return (log(t))\n",
      "<lambdifygenerated-68405>:2: RuntimeWarning: divide by zero encountered in log\n",
      "  return (log(t))\n",
      "<lambdifygenerated-68415>:2: RuntimeWarning: divide by zero encountered in log\n",
      "  return (log(t))\n",
      "<lambdifygenerated-68426>:2: RuntimeWarning: divide by zero encountered in log\n",
      "  return (log(t))\n",
      "<lambdifygenerated-68437>:2: RuntimeWarning: divide by zero encountered in log\n",
      "  return (log(t))\n",
      "<lambdifygenerated-68447>:2: RuntimeWarning: divide by zero encountered in log\n",
      "  return (log(t))\n",
      "<lambdifygenerated-68457>:2: RuntimeWarning: divide by zero encountered in log\n",
      "  return (log(t))\n"
     ]
    },
    {
     "name": "stdout",
     "output_type": "stream",
     "text": [
      "[feateng]            5100/          10343 features transformed\r"
     ]
    },
    {
     "name": "stderr",
     "output_type": "stream",
     "text": [
      "<lambdifygenerated-68468>:2: RuntimeWarning: divide by zero encountered in log\n",
      "  return (log(t))\n",
      "<lambdifygenerated-68480>:2: RuntimeWarning: divide by zero encountered in log\n",
      "  return (log(t))\n",
      "<lambdifygenerated-68491>:2: RuntimeWarning: divide by zero encountered in log\n",
      "  return (log(t))\n",
      "<lambdifygenerated-68502>:2: RuntimeWarning: divide by zero encountered in log\n",
      "  return (log(t))\n",
      "<lambdifygenerated-68512>:2: RuntimeWarning: divide by zero encountered in log\n",
      "  return (log(t))\n",
      "<lambdifygenerated-68522>:2: RuntimeWarning: divide by zero encountered in log\n",
      "  return (log(t))\n",
      "<lambdifygenerated-68532>:2: RuntimeWarning: divide by zero encountered in log\n",
      "  return (log(t))\n",
      "<lambdifygenerated-68543>:2: RuntimeWarning: divide by zero encountered in log\n",
      "  return (log(t))\n",
      "<lambdifygenerated-68553>:2: RuntimeWarning: divide by zero encountered in log\n",
      "  return (log(t))\n",
      "<lambdifygenerated-68563>:2: RuntimeWarning: divide by zero encountered in log\n",
      "  return (log(t))\n",
      "<lambdifygenerated-68574>:2: RuntimeWarning: divide by zero encountered in log\n",
      "  return (log(t))\n",
      "<lambdifygenerated-68586>:2: RuntimeWarning: divide by zero encountered in log\n",
      "  return (log(t))\n",
      "<lambdifygenerated-68597>:2: RuntimeWarning: divide by zero encountered in log\n",
      "  return (log(t))\n",
      "<lambdifygenerated-68608>:2: RuntimeWarning: divide by zero encountered in log\n",
      "  return (log(t))\n",
      "<lambdifygenerated-68618>:2: RuntimeWarning: divide by zero encountered in log\n",
      "  return (log(t))\n"
     ]
    },
    {
     "name": "stdout",
     "output_type": "stream",
     "text": [
      "[feateng]            5200/          10343 features transformed\r"
     ]
    },
    {
     "name": "stderr",
     "output_type": "stream",
     "text": [
      "<lambdifygenerated-69171>:2: RuntimeWarning: divide by zero encountered in log\n",
      "  return (log(t))\n"
     ]
    },
    {
     "name": "stdout",
     "output_type": "stream",
     "text": [
      "[feateng]            5600/          10343 features transformed\r"
     ]
    },
    {
     "name": "stderr",
     "output_type": "stream",
     "text": [
      "<lambdifygenerated-70981>:2: RuntimeWarning: divide by zero encountered in log\n",
      "  return (log(t))\n"
     ]
    },
    {
     "name": "stdout",
     "output_type": "stream",
     "text": [
      "[feateng]            5800/          10343 features transformed\r"
     ]
    },
    {
     "name": "stderr",
     "output_type": "stream",
     "text": [
      "<lambdifygenerated-71820>:2: RuntimeWarning: divide by zero encountered in log\n",
      "  return (log(t))\n"
     ]
    },
    {
     "name": "stdout",
     "output_type": "stream",
     "text": [
      "[feateng]            6000/          10343 features transformed\r"
     ]
    },
    {
     "name": "stderr",
     "output_type": "stream",
     "text": [
      "<lambdifygenerated-72520>:2: RuntimeWarning: divide by zero encountered in log\n",
      "  return (log(t))\n"
     ]
    },
    {
     "name": "stdout",
     "output_type": "stream",
     "text": [
      "[feateng]            6200/          10343 features transformed\r"
     ]
    },
    {
     "name": "stderr",
     "output_type": "stream",
     "text": [
      "<lambdifygenerated-73274>:2: RuntimeWarning: divide by zero encountered in log\n",
      "  return (log(t))\n"
     ]
    },
    {
     "name": "stdout",
     "output_type": "stream",
     "text": [
      "[feateng]            6400/          10343 features transformed\r"
     ]
    },
    {
     "name": "stderr",
     "output_type": "stream",
     "text": [
      "<lambdifygenerated-74150>:2: RuntimeWarning: divide by zero encountered in log\n",
      "  return (log(t))\n"
     ]
    },
    {
     "name": "stdout",
     "output_type": "stream",
     "text": [
      "[feateng]            6700/          10343 features transformed\r"
     ]
    },
    {
     "name": "stderr",
     "output_type": "stream",
     "text": [
      "<lambdifygenerated-75814>:2: RuntimeWarning: divide by zero encountered in log\n",
      "  return (log(t))\n"
     ]
    },
    {
     "name": "stdout",
     "output_type": "stream",
     "text": [
      "[feateng]            6900/          10343 features transformed\r"
     ]
    },
    {
     "name": "stderr",
     "output_type": "stream",
     "text": [
      "<lambdifygenerated-76635>:2: RuntimeWarning: divide by zero encountered in log\n",
      "  return (log(t))\n"
     ]
    },
    {
     "name": "stdout",
     "output_type": "stream",
     "text": [
      "[feateng]            7000/          10343 features transformed\r"
     ]
    },
    {
     "name": "stderr",
     "output_type": "stream",
     "text": [
      "<lambdifygenerated-77430>:2: RuntimeWarning: divide by zero encountered in log\n",
      "  return (log(t))\n"
     ]
    },
    {
     "name": "stdout",
     "output_type": "stream",
     "text": [
      "[feateng]            7200/          10343 features transformed\r"
     ]
    },
    {
     "name": "stderr",
     "output_type": "stream",
     "text": [
      "<lambdifygenerated-78186>:2: RuntimeWarning: divide by zero encountered in log\n",
      "  return (log(t))\n"
     ]
    },
    {
     "name": "stdout",
     "output_type": "stream",
     "text": [
      "[feateng]            7300/          10343 features transformed\r"
     ]
    },
    {
     "name": "stderr",
     "output_type": "stream",
     "text": [
      "<lambdifygenerated-78898>:2: RuntimeWarning: divide by zero encountered in log\n",
      "  return (log(t))\n"
     ]
    },
    {
     "name": "stdout",
     "output_type": "stream",
     "text": [
      "[feateng]            7500/          10343 features transformed\r"
     ]
    },
    {
     "name": "stderr",
     "output_type": "stream",
     "text": [
      "<lambdifygenerated-79569>:2: RuntimeWarning: divide by zero encountered in log\n",
      "  return (log(t))\n"
     ]
    },
    {
     "name": "stdout",
     "output_type": "stream",
     "text": [
      "[feateng]            7600/          10343 features transformed\r"
     ]
    },
    {
     "name": "stderr",
     "output_type": "stream",
     "text": [
      "<lambdifygenerated-80252>:2: RuntimeWarning: divide by zero encountered in log\n",
      "  return (log(t))\n"
     ]
    },
    {
     "name": "stdout",
     "output_type": "stream",
     "text": [
      "[feateng]            7800/          10343 features transformed\r"
     ]
    },
    {
     "name": "stderr",
     "output_type": "stream",
     "text": [
      "<lambdifygenerated-80899>:2: RuntimeWarning: divide by zero encountered in log\n",
      "  return (log(t))\n"
     ]
    },
    {
     "name": "stdout",
     "output_type": "stream",
     "text": [
      "[feateng]            7900/          10343 features transformed\r"
     ]
    },
    {
     "name": "stderr",
     "output_type": "stream",
     "text": [
      "<lambdifygenerated-81501>:2: RuntimeWarning: divide by zero encountered in log\n",
      "  return (log(t))\n"
     ]
    },
    {
     "name": "stdout",
     "output_type": "stream",
     "text": [
      "[feateng]            8000/          10343 features transformed\r"
     ]
    },
    {
     "name": "stderr",
     "output_type": "stream",
     "text": [
      "<lambdifygenerated-82101>:2: RuntimeWarning: divide by zero encountered in log\n",
      "  return (log(t))\n"
     ]
    },
    {
     "name": "stdout",
     "output_type": "stream",
     "text": [
      "[feateng]            8200/          10343 features transformed\r"
     ]
    },
    {
     "name": "stderr",
     "output_type": "stream",
     "text": [
      "<lambdifygenerated-82722>:2: RuntimeWarning: divide by zero encountered in log\n",
      "  return (log(t))\n"
     ]
    },
    {
     "name": "stdout",
     "output_type": "stream",
     "text": [
      "[feateng]            8300/          10343 features transformed\r"
     ]
    },
    {
     "name": "stderr",
     "output_type": "stream",
     "text": [
      "<lambdifygenerated-83280>:2: RuntimeWarning: divide by zero encountered in log\n",
      "  return (log(t))\n"
     ]
    },
    {
     "name": "stdout",
     "output_type": "stream",
     "text": [
      "[feateng]            8400/          10343 features transformed\r"
     ]
    },
    {
     "name": "stderr",
     "output_type": "stream",
     "text": [
      "<lambdifygenerated-83811>:2: RuntimeWarning: divide by zero encountered in log\n",
      "  return (log(t))\n"
     ]
    },
    {
     "name": "stdout",
     "output_type": "stream",
     "text": [
      "[feateng]            8500/          10343 features transformed\r"
     ]
    },
    {
     "name": "stderr",
     "output_type": "stream",
     "text": [
      "<lambdifygenerated-84256>:2: RuntimeWarning: divide by zero encountered in log\n",
      "  return (log(t))\n"
     ]
    },
    {
     "name": "stdout",
     "output_type": "stream",
     "text": [
      "[feateng]            8600/          10343 features transformed\r"
     ]
    },
    {
     "name": "stderr",
     "output_type": "stream",
     "text": [
      "<lambdifygenerated-84641>:2: RuntimeWarning: divide by zero encountered in log\n",
      "  return (log(t))\n"
     ]
    },
    {
     "name": "stdout",
     "output_type": "stream",
     "text": [
      "[feateng]            8700/          10343 features transformed\r"
     ]
    },
    {
     "name": "stderr",
     "output_type": "stream",
     "text": [
      "<lambdifygenerated-85170>:2: RuntimeWarning: divide by zero encountered in log\n",
      "  return (log(t))\n"
     ]
    },
    {
     "name": "stdout",
     "output_type": "stream",
     "text": [
      "[feateng]            8800/          10343 features transformed\r"
     ]
    },
    {
     "name": "stderr",
     "output_type": "stream",
     "text": [
      "<lambdifygenerated-85661>:2: RuntimeWarning: divide by zero encountered in log\n",
      "  return (log(t))\n"
     ]
    },
    {
     "name": "stdout",
     "output_type": "stream",
     "text": [
      "[feateng]            8900/          10343 features transformed\r"
     ]
    },
    {
     "name": "stderr",
     "output_type": "stream",
     "text": [
      "<lambdifygenerated-86128>:2: RuntimeWarning: divide by zero encountered in log\n",
      "  return (log(t))\n"
     ]
    },
    {
     "name": "stdout",
     "output_type": "stream",
     "text": [
      "[feateng]            9000/          10343 features transformed\r"
     ]
    },
    {
     "name": "stderr",
     "output_type": "stream",
     "text": [
      "<lambdifygenerated-86540>:2: RuntimeWarning: divide by zero encountered in log\n",
      "  return (log(t))\n"
     ]
    },
    {
     "name": "stdout",
     "output_type": "stream",
     "text": [
      "[feateng]            9100/          10343 features transformed\r"
     ]
    },
    {
     "name": "stderr",
     "output_type": "stream",
     "text": [
      "<lambdifygenerated-86928>:2: RuntimeWarning: divide by zero encountered in log\n",
      "  return (log(t))\n",
      "<lambdifygenerated-86955>:2: RuntimeWarning: divide by zero encountered in log\n",
      "  return (log(t))\n",
      "<lambdifygenerated-86968>:2: RuntimeWarning: divide by zero encountered in log\n",
      "  return (log(t))\n"
     ]
    },
    {
     "name": "stdout",
     "output_type": "stream",
     "text": [
      "[feateng]            9200/          10343 features transformed\r"
     ]
    },
    {
     "name": "stderr",
     "output_type": "stream",
     "text": [
      "<lambdifygenerated-86979>:2: RuntimeWarning: divide by zero encountered in log\n",
      "  return (log(t))\n",
      "<lambdifygenerated-87358>:2: RuntimeWarning: divide by zero encountered in log\n",
      "  return (log(t))\n",
      "<lambdifygenerated-87378>:2: RuntimeWarning: divide by zero encountered in log\n",
      "  return (log(t))\n",
      "<lambdifygenerated-87396>:2: RuntimeWarning: divide by zero encountered in log\n",
      "  return (log(t))\n",
      "<lambdifygenerated-87414>:2: RuntimeWarning: divide by zero encountered in log\n",
      "  return (log(t))\n",
      "<lambdifygenerated-87432>:2: RuntimeWarning: divide by zero encountered in log\n",
      "  return (log(t))\n",
      "<lambdifygenerated-87450>:2: RuntimeWarning: divide by zero encountered in log\n",
      "  return (log(t))\n"
     ]
    },
    {
     "name": "stdout",
     "output_type": "stream",
     "text": [
      "[feateng]            9300/          10343 features transformed\r"
     ]
    },
    {
     "name": "stderr",
     "output_type": "stream",
     "text": [
      "<lambdifygenerated-87468>:2: RuntimeWarning: divide by zero encountered in log\n",
      "  return (log(t))\n",
      "<lambdifygenerated-87478>:2: RuntimeWarning: divide by zero encountered in log\n",
      "  return (log(t))\n",
      "<lambdifygenerated-87493>:2: RuntimeWarning: divide by zero encountered in log\n",
      "  return (log(t))\n",
      "<lambdifygenerated-87512>:2: RuntimeWarning: divide by zero encountered in log\n",
      "  return (log(t))\n",
      "<lambdifygenerated-87529>:2: RuntimeWarning: divide by zero encountered in log\n",
      "  return (log(t))\n",
      "<lambdifygenerated-87549>:2: RuntimeWarning: divide by zero encountered in log\n",
      "  return (log(t))\n",
      "<lambdifygenerated-87567>:2: RuntimeWarning: divide by zero encountered in log\n",
      "  return (log(t))\n",
      "<lambdifygenerated-87585>:2: RuntimeWarning: divide by zero encountered in log\n",
      "  return (log(t))\n",
      "<lambdifygenerated-87618>:2: RuntimeWarning: divide by zero encountered in log\n",
      "  return (log(t))\n",
      "<lambdifygenerated-87634>:2: RuntimeWarning: divide by zero encountered in log\n",
      "  return (log(t))\n",
      "<lambdifygenerated-87646>:2: RuntimeWarning: divide by zero encountered in log\n",
      "  return (log(t))\n",
      "<lambdifygenerated-87659>:2: RuntimeWarning: divide by zero encountered in log\n",
      "  return (log(t))\n",
      "<lambdifygenerated-87677>:2: RuntimeWarning: divide by zero encountered in log\n",
      "  return (log(t))\n",
      "<lambdifygenerated-87694>:2: RuntimeWarning: divide by zero encountered in log\n",
      "  return (log(t))\n",
      "<lambdifygenerated-87712>:2: RuntimeWarning: divide by zero encountered in log\n",
      "  return (log(t))\n",
      "<lambdifygenerated-87730>:2: RuntimeWarning: divide by zero encountered in log\n",
      "  return (log(t))\n",
      "<lambdifygenerated-87754>:2: RuntimeWarning: divide by zero encountered in log\n",
      "  return (log(t))\n",
      "<lambdifygenerated-87769>:2: RuntimeWarning: divide by zero encountered in log\n",
      "  return (log(t))\n"
     ]
    },
    {
     "name": "stdout",
     "output_type": "stream",
     "text": [
      "[feateng]            9400/          10343 features transformed\r"
     ]
    },
    {
     "name": "stderr",
     "output_type": "stream",
     "text": [
      "<lambdifygenerated-88135>:2: RuntimeWarning: divide by zero encountered in log\n",
      "  return (log(t))\n"
     ]
    },
    {
     "name": "stdout",
     "output_type": "stream",
     "text": [
      "[feateng] Generated 41942 transformed features from 10343 original features - done.\n",
      "[feateng] Generated altogether 54958 new features in 3 steps\n",
      "[feateng] Removing correlated features, as well as additions at the highest level\n",
      "[feateng] Generated a total of 24205 additional features\n",
      "[featsel] Scaling data...done.\n",
      "[featsel] Feature selection run 1/5\n",
      "[featsel] Feature selection run 2/5\n",
      "[featsel] Feature selection run 3/5\n",
      "[featsel] Feature selection run 4/5\n",
      "[featsel] Feature selection run 5/5\n",
      "[featsel] 69 features after 5 feature selection runs\n",
      "[featsel] 38 features after correlation filtering\n",
      "[featsel] 27 features after noise filtering\n",
      "[AutoFeat] Computing 27 new features.\n",
      "[AutoFeat]    27/   27 new features ...done.\n",
      "[AutoFeat] Final dataframe with 40 feature columns (27 new).\n",
      "[AutoFeat] Training final regression model.\n",
      "[AutoFeat] Trained model: largest coefficients:\n",
      "39.04342913722523\n",
      "162.294301 * x005**6/x009**3\n",
      "23.959305 * 1/(x007 + x012)\n",
      "14.361764 * 1/(x012*log(x007))\n",
      "-5.026922 * 1/(sqrt(x006) - x012**2)\n",
      "3.749047 * 1/(x002**3 - sqrt(x009))\n",
      "-2.375798 * x004**6*log(x000)**2\n",
      "-1.542053 * log(x000**2 + x010**2)\n",
      "-0.950431 * log(x009**3/x008)\n",
      "0.914361 * Abs(x005 - log(x009))\n",
      "0.426935 * log(x003 + 1/x012)\n",
      "-0.364370 * 1/(x002**2 - x005)\n",
      "0.340762 * (-log(x012) + 1/x004)**3\n",
      "0.104306 * 1/(-log(x000) + 1/x012)\n",
      "-0.083605 * 1/(log(x007) - 1/x005)\n",
      "0.077921 * x005**6/x010**3\n",
      "0.033720 * 1/(-sqrt(x008) + log(x006))\n",
      "0.014304 * (-sqrt(x009) + x012)**2\n",
      "0.009021 * 1/(x003 - 1/x012)\n",
      "0.000837 * exp(-x000 + x005)\n",
      "-0.000340 * exp(sqrt(x005)*log(x012))\n",
      "-0.000206 * exp(x005)*log(x000)\n",
      "[AutoFeat] Final score: 0.9387\n",
      "[AutoFeat] Computing 27 new features.\n",
      "[AutoFeat]    27/   27 new features ...done.\n",
      "autofeat new features: 27\n",
      "autofeat MSE on training data: 5.211949317885143\n",
      "autofeat MSE on test data: 96.72416682744017\n",
      "autofeat R^2 on training data: 0.9386867962807591\n",
      "autofeat R^2 on test data: -0.1837451522646374\n",
      "# Ridge Regression\n",
      "best params: {'alpha': 0.1}\n",
      "best score: -22.96613869210494\n",
      "MSE on training data: 4.591709257628353\n",
      "MSE on test data: 171.46388415116044\n",
      "R^2 on training data: 0.9459832803503297\n",
      "R^2 on test data: -1.0984367021171395\n",
      "# Random Forest\n",
      "best params: {'min_samples_leaf': 0.0001}\n",
      "best score: -10.97483303645061\n",
      "MSE on training data: 1.3644633589108914\n",
      "MSE on test data: 10.581089529411752\n",
      "R^2 on training data: 0.9839484970421221\n",
      "R^2 on test data: 0.8705048195611244\n",
      "# SVR\n",
      "best params: {'C': 25.0}\n",
      "best score: -13.988342268697613\n",
      "MSE on training data: 2.137579571143683\n",
      "MSE on test data: 12.95011831917165\n",
      "R^2 on training data: 0.9748535828501108\n",
      "R^2 on test data: 0.8415117929222217\n"
     ]
    }
   ],
   "source": [
    "for dsname in datasets:\n",
    "    print(\"####\", dsname)\n",
    "    test_autofeat(dsname, feateng_steps=3)"
   ]
  },
  {
   "cell_type": "code",
   "execution_count": null,
   "metadata": {},
   "outputs": [],
   "source": []
  }
 ],
 "metadata": {
  "kernelspec": {
   "display_name": "Python 3",
   "language": "python",
   "name": "python3"
  },
  "language_info": {
   "codemirror_mode": {
    "name": "ipython",
    "version": 3
   },
   "file_extension": ".py",
   "mimetype": "text/x-python",
   "name": "python",
   "nbconvert_exporter": "python",
   "pygments_lexer": "ipython3",
   "version": "3.8.3"
  }
 },
 "nbformat": 4,
 "nbformat_minor": 2
}
