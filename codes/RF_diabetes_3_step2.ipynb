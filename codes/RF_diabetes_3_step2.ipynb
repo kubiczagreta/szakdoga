{
 "cells": [
  {
   "cell_type": "code",
   "execution_count": 1,
   "metadata": {},
   "outputs": [],
   "source": [
    "#pip install autofeat"
   ]
  },
  {
   "cell_type": "code",
   "execution_count": 1,
   "metadata": {},
   "outputs": [
    {
     "data": {
      "text/plain": [
       "{'divide': 'warn', 'over': 'warn', 'under': 'ignore', 'invalid': 'warn'}"
      ]
     },
     "execution_count": 1,
     "metadata": {},
     "output_type": "execute_result"
    }
   ],
   "source": [
    "import os\n",
    "import sys\n",
    "import warnings\n",
    "import sklearn\n",
    "import matplotlib.pyplot as plt\n",
    "from sklearn import metrics\n",
    "import numpy as np\n",
    "import pandas as pd\n",
    "from sklearn.datasets import load_boston, load_diabetes\n",
    "from sklearn.model_selection import train_test_split, GridSearchCV\n",
    "from sklearn.metrics import mean_squared_error, r2_score\n",
    "from sklearn.preprocessing import StandardScaler\n",
    "from sklearn.linear_model import Ridge\n",
    "from sklearn.svm import SVR\n",
    "from sklearn.ensemble import RandomForestRegressor\n",
    "from autofeat import AutoFeatRegressor\n",
    "\n",
    "%matplotlib inline\n",
    "%load_ext autoreload\n",
    "%autoreload 2\n",
    "\n",
    "# ignore all future warnings\n",
    "from warnings import simplefilter\n",
    "simplefilter(action='ignore', category=FutureWarning)\n",
    "np.seterr(divide = 'ignore')"
   ]
  },
  {
   "cell_type": "code",
   "execution_count": 2,
   "metadata": {},
   "outputs": [],
   "source": [
    "#regr adatbeolvasó fv.\n",
    "def load_regression_dataset(name):\n",
    "    units = {}\n",
    "    if name == \"boston\":\n",
    "        X, y = load_boston(True)\n",
    "    elif name == \"diabetes\":\n",
    "        X, y = load_diabetes(True)\n",
    "    else:\n",
    "        raise RuntimeError(\"Unknown dataset %r\" % name)\n",
    "    return np.array(X, dtype=float), np.array(y, dtype=float), units"
   ]
  },
  {
   "cell_type": "code",
   "execution_count": 3,
   "metadata": {},
   "outputs": [],
   "source": [
    "#módosított modell tesztelő fv.\n",
    "def test_model(X, y, model, param_grid):\n",
    "    # load data\n",
    "    #X, y, _ = load_regression_dataset(dataset)\n",
    "    # split in training and test parts\n",
    "    X_train, X_test, y_train, y_test = train_test_split(X, y, test_size=0.2, random_state=12)\n",
    "    \n",
    "    if model.__class__.__name__ == \"SVR\":\n",
    "        sscaler = StandardScaler()\n",
    "        X_train = sscaler.fit_transform(X_train)\n",
    "        X_test = sscaler.transform(X_test)\n",
    "        \n",
    "    # train model on train split incl cross-validation for parameter selection\n",
    "    gsmodel = GridSearchCV(model, param_grid, scoring='neg_mean_squared_error', cv=5)\n",
    "    gsmodel.fit(X_train, y_train)\n",
    "    print(\"best params:\", gsmodel.best_params_)\n",
    "    print(\"best score:\", gsmodel.best_score_)\n",
    "    print(\"MSE on training data:\", mean_squared_error(y_train, gsmodel.predict(X_train)))\n",
    "    print(\"MSE on test data:\", mean_squared_error(y_test, gsmodel.predict(X_test)))\n",
    "    print(\"R^2 on training data:\", r2_score(y_train, gsmodel.predict(X_train)))\n",
    "    print(\"R^2 on test data:\", r2_score(y_test, gsmodel.predict(X_test)))\n",
    "    return gsmodel.best_estimator_"
   ]
  },
  {
   "cell_type": "code",
   "execution_count": 4,
   "metadata": {},
   "outputs": [],
   "source": [
    "#módosított autofeat modell tesztelő fv.\n",
    "def test_autofeat(X, y, units, feateng_steps=2):\n",
    "    # load data\n",
    "    #X, y, units = load_regression_dataset(dataset)\n",
    "    # split in training and test parts\n",
    "    X_train, X_test, y_train, y_test = train_test_split(X, y, test_size=0.2, random_state=12)\n",
    "    # run autofeat\n",
    "    afreg = AutoFeatRegressor(verbose=1, feateng_steps=feateng_steps, units=units)\n",
    "    # fit autofeat on less data, otherwise ridge reg model with xval will overfit on new features\n",
    "    X_train_tr = afreg.fit_transform(X_train, y_train)\n",
    "    X_test_tr = afreg.transform(X_test)\n",
    "    print(\"autofeat new features:\", len(afreg.new_feat_cols_))\n",
    "    print(\"autofeat MSE on training data:\", mean_squared_error(y_train, afreg.predict(X_train_tr)))\n",
    "    print(\"autofeat MSE on test data:\", mean_squared_error(y_test, afreg.predict(X_test_tr)))\n",
    "    print(\"autofeat R^2 on training data:\", r2_score(y_train, afreg.predict(X_train_tr)))\n",
    "    print(\"autofeat R^2 on test data:\", r2_score(y_test, afreg.predict(X_test_tr)))\n",
    "    \n",
    "    \n",
    "    # train rreg on transformed train split incl cross-validation for parameter selection\n",
    "    print(\"# Ridge Regression\")\n",
    "    rreg = Ridge()\n",
    "    param_grid = {\"alpha\": [0.00001, 0.0001, 0.001, 0.01, 0.1, 1., 2.5, 5., 10., 25., 50., 100., 250., 500., 1000., 2500., 5000., 10000.]}\n",
    "    with warnings.catch_warnings():\n",
    "        warnings.simplefilter(\"ignore\")\n",
    "        gsmodel = GridSearchCV(rreg, param_grid, scoring='neg_mean_squared_error', cv=5)\n",
    "        gsmodel.fit(X_train_tr, y_train)\n",
    "    print(\"best params:\", gsmodel.best_params_)\n",
    "    print(\"best score:\", gsmodel.best_score_)\n",
    "    print(\"MSE on training data:\", mean_squared_error(y_train, gsmodel.predict(X_train_tr)))\n",
    "    print(\"MSE on test data:\", mean_squared_error(y_test, gsmodel.predict(X_test_tr)))\n",
    "    print(\"R^2 on training data:\", r2_score(y_train, gsmodel.predict(X_train_tr)))\n",
    "    print(\"R^2 on test data:\", r2_score(y_test, gsmodel.predict(X_test_tr)))\n",
    "    \n",
    "    \n",
    "    print(\"# Random Forest\")\n",
    "    rforest = RandomForestRegressor(n_estimators=100, random_state=13)\n",
    "    param_grid = {\"min_samples_leaf\": [0.0001, 0.001, 0.01, 0.05, 0.1, 0.2]}\n",
    "    gsmodel = GridSearchCV(rforest, param_grid, scoring='neg_mean_squared_error', cv=5)\n",
    "    gsmodel.fit(X_train_tr, y_train)\n",
    "    print(\"best params:\", gsmodel.best_params_)\n",
    "    print(\"best score:\", gsmodel.best_score_)\n",
    "    print(\"MSE on training data:\", mean_squared_error(y_train, gsmodel.predict(X_train_tr)))\n",
    "    print(\"MSE on test data:\", mean_squared_error(y_test, gsmodel.predict(X_test_tr)))\n",
    "    print(\"R^2 on training data:\", r2_score(y_train, gsmodel.predict(X_train_tr)))\n",
    "    print(\"R^2 on test data:\", r2_score(y_test, gsmodel.predict(X_test_tr)))\n",
    "    \n",
    "    \n",
    "    print(\"# SVR\")\n",
    "    svr = SVR(gamma=\"scale\")\n",
    "    param_grid = {\"C\": [1., 10., 25., 50., 100., 250.]}\n",
    "    sscaler = StandardScaler()\n",
    "    X_train_tr = sscaler.fit_transform(X_train_tr)\n",
    "    X_test_tr = sscaler.transform(X_test_tr)\n",
    "    gsmodel = GridSearchCV(svr, param_grid, scoring='neg_mean_squared_error', cv=5)\n",
    "    gsmodel.fit(X_train_tr, y_train)\n",
    "    print(\"best params:\", gsmodel.best_params_)\n",
    "    print(\"best score:\", gsmodel.best_score_)\n",
    "    print(\"MSE on training data:\", mean_squared_error(y_train, gsmodel.predict(X_train_tr)))\n",
    "    print(\"MSE on test data:\", mean_squared_error(y_test, gsmodel.predict(X_test_tr)))\n",
    "    print(\"R^2 on training data:\", r2_score(y_train, gsmodel.predict(X_train_tr)))\n",
    "    print(\"R^2 on test data:\", r2_score(y_test, gsmodel.predict(X_test_tr)))"
   ]
  },
  {
   "cell_type": "code",
   "execution_count": 8,
   "metadata": {
    "scrolled": true
   },
   "outputs": [
    {
     "name": "stdout",
     "output_type": "stream",
     "text": [
      "[AutoFeat] The 2 step feature engineering process could generate up to 2485 features.\n",
      "[AutoFeat] With 442 data points this new feature matrix would use about 0.00 gb of space.\n",
      "[feateng] Step 1: transformation of original features\n",
      "[feateng] Generated 45 transformed features from 10 original features - done.\n",
      "[feateng] Step 2: first combination of features\n",
      "[feateng] Generated 1337 feature combinations from 1485 original feature tuples - done.\n",
      "[feateng] Generated altogether 1495 new features in 2 steps\n",
      "[feateng] Removing correlated features, as well as additions at the highest level\n",
      "[feateng] Generated a total of 918 additional features\n",
      "[featsel] Scaling data...done.\n",
      "[featsel] Feature selection run 1/5\n",
      "[featsel] Feature selection run 2/5\n",
      "[featsel] Feature selection run 3/5\n",
      "[featsel] Feature selection run 4/5\n",
      "[featsel] Feature selection run 5/5\n",
      "[featsel] 31 features after 5 feature selection runs\n",
      "[featsel] 29 features after correlation filtering\n",
      "[featsel] 9 features after noise filtering\n",
      "[AutoFeat] Computing 9 new features.\n",
      "[AutoFeat]     9/    9 new features ...done.\n",
      "[AutoFeat] Final dataframe with 19 feature columns (9 new).\n",
      "[AutoFeat] Training final regression model.\n",
      "[AutoFeat] Trained model: largest coefficients:\n",
      "-402.3968554723425\n",
      "725269.903765 * x000**3*x001\n",
      "-5773.866340 * x006*Abs(x009)\n",
      "-5118.422120 * x001*Abs(x009)\n",
      "3464.187659 * x002*x003\n",
      "291.521774 * exp(x002)*exp(x003)\n",
      "256.790124 * exp(x002)*exp(x008)\n",
      "100.724594 * x000**3/x009\n",
      "14.781341 * Abs(x008)/x008\n",
      "0.874457 * x001/x006\n",
      "[AutoFeat] Final score: 0.5723\n"
     ]
    },
    {
     "data": {
      "text/plain": [
       "(442, 19)"
      ]
     },
     "execution_count": 8,
     "metadata": {},
     "output_type": "execute_result"
    }
   ],
   "source": [
    "#adatok beolvasása\n",
    "X, y, units = load_regression_dataset(\"diabetes\")\n",
    "#új változók generálása autofeattel\n",
    "afreg = AutoFeatRegressor(verbose=1, feateng_steps=2, units=units)\n",
    "#és a legjobbak kiválasztása\n",
    "X_af = afreg.fit_transform(X, y)\n",
    "X_af.shape"
   ]
  },
  {
   "cell_type": "code",
   "execution_count": 9,
   "metadata": {
    "scrolled": false
   },
   "outputs": [
    {
     "data": {
      "image/png": "[encoded data removed]",
      "text/plain": [
       "<Figure size 432x288 with 1 Axes>"
      ]
     },
     "metadata": {
      "needs_background": "light"
     },
     "output_type": "display_data"
    }
   ],
   "source": [
    "#randomforest illesztése a kibővített adathalmazra, hogy feature importance-t alkalmazzunk rajta\n",
    "randforreg = RandomForestRegressor(random_state=13)\n",
    "randforreg.fit(X_af, y)\n",
    "#feature importance alkalmazása és ábrázolása\n",
    "importances = randforreg.feature_importances_\n",
    "indices = np.argsort(importances)[::-1]\n",
    "plt.bar(range(X_af.shape[1]), importances[indices])\n",
    "plt.xticks(range(X_af.shape[1]), indices)\n",
    "plt.show()"
   ]
  },
  {
   "cell_type": "code",
   "execution_count": 10,
   "metadata": {
    "scrolled": true
   },
   "outputs": [
    {
     "data": {
      "text/plain": [
       "(442, 2)"
      ]
     },
     "execution_count": 10,
     "metadata": {},
     "output_type": "execute_result"
    }
   ],
   "source": [
    "select = []\n",
    "columns=[]\n",
    "#kiválasztom a legfontosabb featureket\n",
    "for i,v in enumerate(importances):\n",
    "    if v > 0.07:\n",
    "        select.append(i)\n",
    "for i in select:\n",
    "    columns.append(X_af.columns[i])\n",
    "#leszúkitem a fontos featurekkel az adathalmazt\n",
    "XS_af = X_af[columns]\n",
    "XS_af.shape"
   ]
  },
  {
   "cell_type": "markdown",
   "metadata": {},
   "source": [
    "## Adathalmaz tesztelése"
   ]
  },
  {
   "cell_type": "code",
   "execution_count": 11,
   "metadata": {},
   "outputs": [],
   "source": [
    "dsname='diabetes'"
   ]
  },
  {
   "cell_type": "code",
   "execution_count": 12,
   "metadata": {},
   "outputs": [
    {
     "name": "stdout",
     "output_type": "stream",
     "text": [
      "#### diabetes\n",
      "best params: {'alpha': 0.1}\n",
      "best score: -3118.5653073482613\n",
      "MSE on training data: 3038.9000537365478\n",
      "MSE on test data: 3265.751774570506\n",
      "R^2 on training data: 0.505287620888265\n",
      "R^2 on test data: 0.35411032244739127\n"
     ]
    }
   ],
   "source": [
    "#Ridge regresszió\n",
    "print(\"####\", dsname)\n",
    "warnings.simplefilter(\"ignore\")\n",
    "rreg = Ridge()\n",
    "params = {\"alpha\": [0.00001, 0.0001, 0.001, 0.01, 0.1, 1., 2.5, 5., 10., 25., 50., 100., 250., 500., 1000., 2500., 5000., 10000., 25000., 50000., 100000.]}\n",
    "rreg = test_model(XS_af, y, rreg, params)"
   ]
  },
  {
   "cell_type": "code",
   "execution_count": 13,
   "metadata": {},
   "outputs": [
    {
     "name": "stdout",
     "output_type": "stream",
     "text": [
      "#### diabetes\n",
      "best params: {'C': 10.0}\n",
      "best score: -3168.8849855709077\n",
      "MSE on training data: 2984.903605810966\n",
      "MSE on test data: 3424.072954126908\n",
      "R^2 on training data: 0.5140778774760071\n",
      "R^2 on test data: 0.32279807869093446\n"
     ]
    }
   ],
   "source": [
    "#SVR regresszió\n",
    "print(\"####\", dsname)\n",
    "svr = SVR(gamma=\"scale\")\n",
    "params = {\"C\": [1., 10., 25., 50., 100., 250.]}\n",
    "svr = test_model(XS_af, y, svr, params)"
   ]
  },
  {
   "cell_type": "code",
   "execution_count": 14,
   "metadata": {},
   "outputs": [
    {
     "name": "stdout",
     "output_type": "stream",
     "text": [
      "#### diabetes\n",
      "best params: {'min_samples_leaf': 0.05}\n",
      "best score: -3142.7314015609127\n",
      "MSE on training data: 2532.972755342842\n",
      "MSE on test data: 3590.5878827057495\n",
      "R^2 on training data: 0.5876491638874087\n",
      "R^2 on test data: 0.28986530212017736\n"
     ]
    }
   ],
   "source": [
    "#random forest regresszió\n",
    "print(\"####\", dsname)\n",
    "rforest = RandomForestRegressor(n_estimators=100, random_state=13)\n",
    "params = {\"min_samples_leaf\": [0.0001, 0.001, 0.01, 0.05, 0.1, 0.2]}\n",
    "rforest = test_model(XS_af, y, rforest, params)"
   ]
  },
  {
   "cell_type": "code",
   "execution_count": 15,
   "metadata": {
    "scrolled": true
   },
   "outputs": [
    {
     "name": "stdout",
     "output_type": "stream",
     "text": [
      "#### diabetes\n",
      "[AutoFeat] The 1 step feature engineering process could generate up to 14 features.\n",
      "[AutoFeat] With 353 data points this new feature matrix would use about 0.00 gb of space.\n",
      "[feateng] Step 1: transformation of original features\n",
      "[feateng] Generated 12 transformed features from 2 original features - done.\n",
      "[feateng] Generated altogether 12 new features in 1 steps\n",
      "[feateng] Removing correlated features, as well as additions at the highest level\n",
      "[feateng] Generated a total of 0 additional features\n",
      "[featsel] Scaling data...done.\n",
      "[featsel] Feature selection run 1/5\n",
      "[featsel] Feature selection run 2/5\n",
      "[featsel] Feature selection run 3/5\n",
      "[featsel] Feature selection run 4/5\n",
      "[featsel] Feature selection run 5/5\n",
      "[featsel] 2 features after 5 feature selection runs\n",
      "[featsel] 2 features after correlation filtering\n",
      "[featsel] 2 features after noise filtering\n",
      "[AutoFeat] Final dataframe with 2 feature columns (0 new).\n",
      "[AutoFeat] Training final regression model.\n",
      "[AutoFeat] Trained model: largest coefficients:\n",
      "-550.3109195450197\n",
      "464.519446 * exp(x002)*exp(x008)\n",
      "236.692818 * exp(x002)*exp(x003)\n",
      "[AutoFeat] Final score: 0.5057\n",
      "autofeat new features: 0\n",
      "autofeat MSE on training data: 3036.4070758927924\n",
      "autofeat MSE on test data: 3269.461053137623\n",
      "autofeat R^2 on training data: 0.5056934608232246\n",
      "autofeat R^2 on test data: 0.3533767134951361\n",
      "# Ridge Regression\n",
      "best params: {'alpha': 0.1}\n",
      "best score: -3118.5653073482613\n",
      "MSE on training data: 3038.9000537365478\n",
      "MSE on test data: 3265.751774570506\n",
      "R^2 on training data: 0.505287620888265\n",
      "R^2 on test data: 0.35411032244739127\n",
      "# Random Forest\n",
      "best params: {'min_samples_leaf': 0.05}\n",
      "best score: -3142.7314015609127\n",
      "MSE on training data: 2532.972755342842\n",
      "MSE on test data: 3590.5878827057495\n",
      "R^2 on training data: 0.5876491638874087\n",
      "R^2 on test data: 0.28986530212017736\n",
      "# SVR\n",
      "best params: {'C': 10.0}\n",
      "best score: -3168.8849855709077\n",
      "MSE on training data: 2984.903605810966\n",
      "MSE on test data: 3424.072954126908\n",
      "R^2 on training data: 0.5140778774760071\n",
      "R^2 on test data: 0.32279807869093446\n"
     ]
    }
   ],
   "source": [
    "#autofeat regresszió 1 steppel\n",
    "print(\"####\", dsname)\n",
    "test_autofeat(XS_af, y, units, feateng_steps=1)"
   ]
  },
  {
   "cell_type": "code",
   "execution_count": 16,
   "metadata": {
    "scrolled": true
   },
   "outputs": [
    {
     "name": "stdout",
     "output_type": "stream",
     "text": [
      "#### diabetes\n",
      "[AutoFeat] The 2 step feature engineering process could generate up to 105 features.\n",
      "[AutoFeat] With 353 data points this new feature matrix would use about 0.00 gb of space.\n",
      "[feateng] Step 1: transformation of original features\n",
      "[feateng] Generated 12 transformed features from 2 original features - done.\n",
      "[feateng] Step 2: first combination of features\n",
      "[feateng] Generated 85 feature combinations from 91 original feature tuples - done.\n",
      "[feateng] Generated altogether 98 new features in 2 steps\n",
      "[feateng] Removing correlated features, as well as additions at the highest level\n",
      "[feateng] Generated a total of 19 additional features\n",
      "[featsel] Scaling data...done.\n",
      "[featsel] Feature selection run 1/5\n",
      "[featsel] Feature selection run 2/5\n",
      "[featsel] Feature selection run 3/5\n",
      "[featsel] Feature selection run 4/5\n",
      "[featsel] Feature selection run 5/5\n",
      "[featsel] 3 features after 5 feature selection runs\n",
      "[featsel] 3 features after correlation filtering\n",
      "[featsel] 3 features after noise filtering\n",
      "[AutoFeat] Computing 1 new features.\n",
      "[AutoFeat]     1/    1 new features ...done.\n",
      "[AutoFeat] Final dataframe with 3 feature columns (1 new).\n",
      "[AutoFeat] Training final regression model.\n",
      "[AutoFeat] Trained model: largest coefficients:\n",
      "-1986.7131011338822\n",
      "536.655329 * exp(expx002expx003)/expx002expx003\n",
      "472.797845 * exp(x002)*exp(x008)\n",
      "201.167897 * exp(x002)*exp(x003)\n",
      "[AutoFeat] Final score: 0.5120\n",
      "[AutoFeat] Computing 1 new features.\n",
      "[AutoFeat]     1/    1 new features ...done.\n",
      "autofeat new features: 1\n",
      "autofeat MSE on training data: 2997.918185972506\n",
      "autofeat MSE on test data: 3217.5336793049355\n",
      "autofeat R^2 on training data: 0.5119591918328451\n",
      "autofeat R^2 on test data: 0.3636467392215583\n",
      "# Ridge Regression\n",
      "best params: {'alpha': 0.01}\n",
      "best score: -3099.800777014977\n",
      "MSE on training data: 2999.0995500173253\n",
      "MSE on test data: 3223.2777090243185\n",
      "R^2 on training data: 0.5117668737549632\n",
      "R^2 on test data: 0.3625107038583707\n",
      "# Random Forest\n",
      "best params: {'min_samples_leaf': 0.05}\n",
      "best score: -3172.3335085279336\n",
      "MSE on training data: 2525.225492620096\n",
      "MSE on test data: 3578.4951202377533\n",
      "R^2 on training data: 0.5889103658701659\n",
      "R^2 on test data: 0.29225696902884857\n",
      "# SVR\n",
      "best params: {'C': 10.0}\n",
      "best score: -3244.732568603382\n",
      "MSE on training data: 3022.534373835633\n",
      "MSE on test data: 3405.1633683186033\n",
      "R^2 on training data: 0.5079518429082053\n",
      "R^2 on test data: 0.3265379545674424\n"
     ]
    }
   ],
   "source": [
    "#autofeat regresszió 2 steppel\n",
    "print(\"####\", dsname)\n",
    "test_autofeat(XS_af, y, units, feateng_steps=2)"
   ]
  },
  {
   "cell_type": "code",
   "execution_count": 17,
   "metadata": {
    "scrolled": true
   },
   "outputs": [
    {
     "name": "stdout",
     "output_type": "stream",
     "text": [
      "#### diabetes\n",
      "[AutoFeat] The 3 step feature engineering process could generate up to 2289 features.\n",
      "[AutoFeat] With 353 data points this new feature matrix would use about 0.00 gb of space.\n",
      "[feateng] Step 1: transformation of original features\n",
      "[feateng] Generated 12 transformed features from 2 original features - done.\n",
      "[feateng] Step 2: first combination of features\n",
      "[feateng] Generated 358 feature combinations from 91 original feature tuples - done.\n",
      "[feateng] Step 3: transformation of new features\n",
      "[feateng] Generated 1851 transformed features from 358 original features - done.\n",
      "[feateng] Generated altogether 2254 new features in 3 steps\n",
      "[feateng] Removing correlated features, as well as additions at the highest level\n",
      "[feateng] Generated a total of 506 additional features\n",
      "[featsel] Scaling data...done.\n",
      "[featsel] Feature selection run 1/5\n",
      "[featsel] Feature selection run 2/5\n",
      "[featsel] Feature selection run 3/5\n",
      "[featsel] Feature selection run 4/5\n",
      "[featsel] Feature selection run 5/5\n",
      "[featsel] 11 features after 5 feature selection runs\n",
      "[featsel] 8 features after correlation filtering\n",
      "[featsel] 6 features after noise filtering\n",
      "[AutoFeat] Computing 4 new features.\n",
      "[AutoFeat]     4/    4 new features ...done.\n",
      "[AutoFeat] Final dataframe with 6 feature columns (4 new).\n",
      "[AutoFeat] Training final regression model.\n",
      "[AutoFeat] Trained model: largest coefficients:\n",
      "-479.03233209821735\n",
      "452.159598 * exp(x002)*exp(x008)\n",
      "170.453650 * exp(x002)*exp(x003)\n",
      "41.933621 * Abs(expx002expx003**3 - sqrt(expx002expx008))\n",
      "0.046162 * expx002expx008/log(expx002expx003)\n",
      "0.020934 * 1/(-sqrt(expx002expx003) + expx002expx008**3)\n",
      "[AutoFeat] Final score: 0.5294\n",
      "[AutoFeat] Computing 4 new features.\n",
      "[AutoFeat]     4/    4 new features ...done.\n",
      "autofeat new features: 4\n",
      "autofeat MSE on training data: 2890.5727265350542\n",
      "autofeat MSE on test data: 60924.58227754157\n",
      "autofeat R^2 on training data: 0.5294343067382687\n",
      "autofeat R^2 on test data: -11.049464110738754\n",
      "# Ridge Regression\n",
      "best params: {'alpha': 1e-05}\n",
      "best score: -3141.5641038096123\n",
      "MSE on training data: 2865.5240399608247\n",
      "MSE on test data: 104855.27533558756\n",
      "R^2 on training data: 0.5335120635284352\n",
      "R^2 on test data: -19.737932534722262\n",
      "# Random Forest\n",
      "best params: {'min_samples_leaf': 0.05}\n",
      "best score: -3151.559053818807\n",
      "MSE on training data: 2431.5438850848254\n",
      "MSE on test data: 3719.7717659729533\n",
      "R^2 on training data: 0.6041610980835536\n",
      "R^2 on test data: 0.2643157372824084\n",
      "# SVR\n",
      "best params: {'C': 10.0}\n",
      "best score: -3231.648961529121\n",
      "MSE on training data: 2976.0516224154258\n",
      "MSE on test data: 3759.9786547586286\n",
      "R^2 on training data: 0.5155189205139579\n",
      "R^2 on test data: 0.2563637506570353\n"
     ]
    }
   ],
   "source": [
    "#autofeat regresszió 3 steppel\n",
    "print(\"####\", dsname)\n",
    "test_autofeat(XS_af, y, units, feateng_steps=3)"
   ]
  },
  {
   "cell_type": "code",
   "execution_count": null,
   "metadata": {},
   "outputs": [],
   "source": []
  }
 ],
 "metadata": {
  "kernelspec": {
   "display_name": "Python 3",
   "language": "python",
   "name": "python3"
  },
  "language_info": {
   "codemirror_mode": {
    "name": "ipython",
    "version": 3
   },
   "file_extension": ".py",
   "mimetype": "text/x-python",
   "name": "python",
   "nbconvert_exporter": "python",
   "pygments_lexer": "ipython3",
   "version": "3.8.3"
  }
 },
 "nbformat": 4,
 "nbformat_minor": 4
}
